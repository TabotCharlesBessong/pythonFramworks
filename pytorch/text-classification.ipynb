{
 "cells": [
  {
   "cell_type": "code",
   "execution_count": 14,
   "metadata": {},
   "outputs": [
    {
     "name": "stdout",
     "output_type": "stream",
     "text": [
      "Available Device is:  cpu\n"
     ]
    }
   ],
   "source": [
    "import torch\n",
    "import torch.nn as nn\n",
    "from torch.optim import Adam\n",
    "from transformers import AutoTokenizer, AutoModel\n",
    "from torch.utils.data import Dataset, DataLoader\n",
    "from sklearn.model_selection import train_test_split\n",
    "from sklearn.metrics import accuracy_score\n",
    "import matplotlib.pyplot as plt\n",
    "import pandas as pd\n",
    "import numpy as np\n",
    "\n",
    "\n",
    "device = 'cuda' if torch.cuda.is_available() else 'cpu'\n",
    "\n",
    "print(\"Available Device is: \", device)"
   ]
  },
  {
   "cell_type": "code",
   "execution_count": 15,
   "metadata": {},
   "outputs": [
    {
     "name": "stdout",
     "output_type": "stream",
     "text": [
      "(26709, 3)\n"
     ]
    },
    {
     "data": {
      "text/html": [
       "<div>\n",
       "<style scoped>\n",
       "    .dataframe tbody tr th:only-of-type {\n",
       "        vertical-align: middle;\n",
       "    }\n",
       "\n",
       "    .dataframe tbody tr th {\n",
       "        vertical-align: top;\n",
       "    }\n",
       "\n",
       "    .dataframe thead th {\n",
       "        text-align: right;\n",
       "    }\n",
       "</style>\n",
       "<table border=\"1\" class=\"dataframe\">\n",
       "  <thead>\n",
       "    <tr style=\"text-align: right;\">\n",
       "      <th></th>\n",
       "      <th>article_link</th>\n",
       "      <th>headline</th>\n",
       "      <th>is_sarcastic</th>\n",
       "    </tr>\n",
       "  </thead>\n",
       "  <tbody>\n",
       "    <tr>\n",
       "      <th>0</th>\n",
       "      <td>https://www.huffingtonpost.com/entry/versace-b...</td>\n",
       "      <td>former versace store clerk sues over secret 'b...</td>\n",
       "      <td>0</td>\n",
       "    </tr>\n",
       "    <tr>\n",
       "      <th>1</th>\n",
       "      <td>https://www.huffingtonpost.com/entry/roseanne-...</td>\n",
       "      <td>the 'roseanne' revival catches up to our thorn...</td>\n",
       "      <td>0</td>\n",
       "    </tr>\n",
       "    <tr>\n",
       "      <th>2</th>\n",
       "      <td>https://local.theonion.com/mom-starting-to-fea...</td>\n",
       "      <td>mom starting to fear son's web series closest ...</td>\n",
       "      <td>1</td>\n",
       "    </tr>\n",
       "    <tr>\n",
       "      <th>3</th>\n",
       "      <td>https://politics.theonion.com/boehner-just-wan...</td>\n",
       "      <td>boehner just wants wife to listen, not come up...</td>\n",
       "      <td>1</td>\n",
       "    </tr>\n",
       "    <tr>\n",
       "      <th>4</th>\n",
       "      <td>https://www.huffingtonpost.com/entry/jk-rowlin...</td>\n",
       "      <td>j.k. rowling wishes snape happy birthday in th...</td>\n",
       "      <td>0</td>\n",
       "    </tr>\n",
       "  </tbody>\n",
       "</table>\n",
       "</div>"
      ],
      "text/plain": [
       "                                        article_link  \\\n",
       "0  https://www.huffingtonpost.com/entry/versace-b...   \n",
       "1  https://www.huffingtonpost.com/entry/roseanne-...   \n",
       "2  https://local.theonion.com/mom-starting-to-fea...   \n",
       "3  https://politics.theonion.com/boehner-just-wan...   \n",
       "4  https://www.huffingtonpost.com/entry/jk-rowlin...   \n",
       "\n",
       "                                            headline  is_sarcastic  \n",
       "0  former versace store clerk sues over secret 'b...             0  \n",
       "1  the 'roseanne' revival catches up to our thorn...             0  \n",
       "2  mom starting to fear son's web series closest ...             1  \n",
       "3  boehner just wants wife to listen, not come up...             1  \n",
       "4  j.k. rowling wishes snape happy birthday in th...             0  "
      ]
     },
     "execution_count": 15,
     "metadata": {},
     "output_type": "execute_result"
    }
   ],
   "source": [
    "data = pd.read_json(\"./DATA/text/Sarcasm_Headlines_Dataset.json\",lines=True)\n",
    "data.dropna(inplace=True)\n",
    "print(data.shape)\n",
    "data.head()"
   ]
  },
  {
   "cell_type": "code",
   "execution_count": 16,
   "metadata": {},
   "outputs": [],
   "source": [
    "X_train, X_test, y_train, y_test = train_test_split(np.array(data[\"headline\"]), np.array(data[\"is_sarcastic\"]), test_size=0.3)\n",
    "X_val, X_test, y_val, y_test = train_test_split(X_test, y_test, test_size=0.5)"
   ]
  },
  {
   "cell_type": "code",
   "execution_count": 17,
   "metadata": {},
   "outputs": [],
   "source": [
    "tokenizer = AutoTokenizer.from_pretrained(\"bert-base-uncased\")\n",
    "bert_model = AutoModel.from_pretrained(\"bert-base-uncased\")"
   ]
  },
  {
   "cell_type": "code",
   "execution_count": 18,
   "metadata": {},
   "outputs": [],
   "source": [
    "class dataset(Dataset):\n",
    "  def __init__(self, X, Y):\n",
    "    self.X = [tokenizer(x,\n",
    "                        max_length = 100,\n",
    "                        truncation = True,\n",
    "                        padding = 'max_length',\n",
    "                        return_tensors='pt').to(device)\n",
    "              for x in X\n",
    "              ]\n",
    "\n",
    "    self.Y = torch.tensor(Y, dtype = torch.float32).to(device)\n",
    "  def __len__(self):\n",
    "    return len(self.X)\n",
    "  def __getitem__(self, index):\n",
    "    return self.X[index], self.Y[index]\n",
    "\n",
    "training_data = dataset(X_train, y_train)\n",
    "validation_data = dataset(X_val, y_val)\n",
    "testing_data = dataset(X_test, y_test)"
   ]
  },
  {
   "cell_type": "code",
   "execution_count": 19,
   "metadata": {},
   "outputs": [],
   "source": [
    "BATCH_SIZE = 32\n",
    "EPOCHS = 25\n",
    "LR = 1e-4"
   ]
  },
  {
   "cell_type": "code",
   "execution_count": 20,
   "metadata": {},
   "outputs": [],
   "source": [
    "train_dataloader = DataLoader(training_data, batch_size=BATCH_SIZE, shuffle= True)\n",
    "validation_dataloader = DataLoader(validation_data, batch_size=BATCH_SIZE, shuffle= True)\n",
    "testing_dataloader = DataLoader(testing_data, batch_size=BATCH_SIZE, shuffle= True)"
   ]
  },
  {
   "cell_type": "code",
   "execution_count": 21,
   "metadata": {},
   "outputs": [],
   "source": [
    "class MyModel(nn.Module):\n",
    "  def __init__(self,bert):\n",
    "    super(MyModel, self).__init__()\n",
    "    self.bert = bert\n",
    "    self.dropout = nn.Dropout(0.25)\n",
    "    self.linear1 = nn.Linear(768, 384)\n",
    "    self.linear2 = nn.Linear(384,1)\n",
    "    self.sigmoid = nn.Sigmoid()\n",
    "    \n",
    "  def forward(self, input_ids, attention_mask):\n",
    "    pooled_output = self.bert(input_ids, attention_mask, return_dict = False)[0][:,0]\n",
    "    output = self.linear1(pooled_output)\n",
    "    output = self.dropout(output)\n",
    "    output = self.linear2(output)\n",
    "    output = self.sigmoid(output)\n",
    "    return output"
   ]
  },
  {
   "cell_type": "code",
   "execution_count": 22,
   "metadata": {},
   "outputs": [],
   "source": [
    "for param in bert_model.parameters():\n",
    "  param.requires_grad = False\n",
    "model = MyModel(bert_model).to(device)"
   ]
  },
  {
   "cell_type": "code",
   "execution_count": 23,
   "metadata": {},
   "outputs": [],
   "source": [
    "criterion = nn.BCELoss()\n",
    "optimizer = Adam(model.parameters(), lr= LR)"
   ]
  },
  {
   "cell_type": "code",
   "execution_count": 24,
   "metadata": {},
   "outputs": [
    {
     "name": "stdout",
     "output_type": "stream",
     "text": [
      "Epoch no. 1 Train Loss: 0.2596 Train Accuracy: 80.3380 Validation Loss: 0.4826 Validation Accuracy: 83.4498\n",
      "==================================================\n",
      "Epoch no. 2 Train Loss: 0.2120 Train Accuracy: 84.5528 Validation Loss: 0.4491 Validation Accuracy: 85.0974\n",
      "==================================================\n",
      "Epoch no. 3 Train Loss: 0.1996 Train Accuracy: 85.4140 Validation Loss: 0.4221 Validation Accuracy: 86.1208\n",
      "==================================================\n",
      "Epoch no. 4 Train Loss: 0.1920 Train Accuracy: 85.7189 Validation Loss: 0.4137 Validation Accuracy: 86.2956\n",
      "==================================================\n",
      "Epoch no. 5 Train Loss: 0.1868 Train Accuracy: 86.3393 Validation Loss: 0.4111 Validation Accuracy: 86.4204\n",
      "==================================================\n",
      "Epoch no. 6 Train Loss: 0.1856 Train Accuracy: 86.5854 Validation Loss: 0.4034 Validation Accuracy: 86.5701\n",
      "==================================================\n",
      "Epoch no. 7 Train Loss: 0.1830 Train Accuracy: 86.7886 Validation Loss: 0.3995 Validation Accuracy: 86.5452\n",
      "==================================================\n",
      "Epoch no. 8 Train Loss: 0.1800 Train Accuracy: 86.9009 Validation Loss: 0.4024 Validation Accuracy: 86.6450\n",
      "==================================================\n",
      "Epoch no. 9 Train Loss: 0.1791 Train Accuracy: 87.0400 Validation Loss: 0.4041 Validation Accuracy: 86.5701\n",
      "==================================================\n",
      "Epoch no. 10 Train Loss: 0.1775 Train Accuracy: 87.3235 Validation Loss: 0.4111 Validation Accuracy: 86.5951\n",
      "==================================================\n",
      "Epoch no. 11 Train Loss: 0.1763 Train Accuracy: 87.1309 Validation Loss: 0.4098 Validation Accuracy: 86.2706\n",
      "==================================================\n",
      "Epoch no. 12 Train Loss: 0.1753 Train Accuracy: 87.0561 Validation Loss: 0.4050 Validation Accuracy: 86.2706\n",
      "==================================================\n",
      "Epoch no. 13 Train Loss: 0.1748 Train Accuracy: 87.4840 Validation Loss: 0.4006 Validation Accuracy: 86.7199\n",
      "==================================================\n",
      "Epoch no. 14 Train Loss: 0.1740 Train Accuracy: 87.5535 Validation Loss: 0.3923 Validation Accuracy: 86.6201\n",
      "==================================================\n",
      "Epoch no. 15 Train Loss: 0.1734 Train Accuracy: 87.5107 Validation Loss: 0.4252 Validation Accuracy: 86.0210\n",
      "==================================================\n",
      "Epoch no. 16 Train Loss: 0.1738 Train Accuracy: 87.5374 Validation Loss: 0.3953 Validation Accuracy: 86.3704\n",
      "==================================================\n",
      "Epoch no. 17 Train Loss: 0.1724 Train Accuracy: 87.6444 Validation Loss: 0.3995 Validation Accuracy: 86.5452\n",
      "==================================================\n",
      "Epoch no. 18 Train Loss: 0.1722 Train Accuracy: 87.5963 Validation Loss: 0.3997 Validation Accuracy: 86.4953\n",
      "==================================================\n",
      "Epoch no. 19 Train Loss: 0.1722 Train Accuracy: 87.6605 Validation Loss: 0.3988 Validation Accuracy: 86.4953\n",
      "==================================================\n",
      "Epoch no. 20 Train Loss: 0.1712 Train Accuracy: 87.6926 Validation Loss: 0.3979 Validation Accuracy: 86.6201\n",
      "==================================================\n",
      "Epoch no. 21 Train Loss: 0.1708 Train Accuracy: 87.8102 Validation Loss: 0.3976 Validation Accuracy: 86.3205\n",
      "==================================================\n",
      "Epoch no. 22 Train Loss: 0.1716 Train Accuracy: 87.5642 Validation Loss: 0.3962 Validation Accuracy: 86.7698\n",
      "==================================================\n",
      "Epoch no. 23 Train Loss: 0.1716 Train Accuracy: 87.5642 Validation Loss: 0.4054 Validation Accuracy: 86.1208\n",
      "==================================================\n",
      "Epoch no. 24 Train Loss: 0.1709 Train Accuracy: 87.6979 Validation Loss: 0.4032 Validation Accuracy: 86.5701\n",
      "==================================================\n",
      "Epoch no. 25 Train Loss: 0.1711 Train Accuracy: 87.7514 Validation Loss: 0.3979 Validation Accuracy: 86.3455\n",
      "==================================================\n"
     ]
    }
   ],
   "source": [
    "total_loss_train_plot = []\n",
    "total_loss_validation_plot = []\n",
    "total_acc_train_plot = []\n",
    "total_acc_validation_plot = []\n",
    "\n",
    "for epoch in range(EPOCHS):\n",
    "  total_acc_train = 0\n",
    "  total_loss_train = 0\n",
    "  total_acc_val = 0\n",
    "  total_loss_val = 0\n",
    "  ## Training and Validation\n",
    "  for indx, data in enumerate(train_dataloader):\n",
    "    input, label = data\n",
    "\n",
    "    input.to(device)\n",
    "    label.to(device)\n",
    "\n",
    "    prediction = model(input['input_ids'].squeeze(1),\n",
    "                        input['attention_mask'].squeeze(1)).squeeze(1)\n",
    "\n",
    "\n",
    "    batch_loss = criterion(prediction, label)\n",
    "\n",
    "    total_loss_train += batch_loss.item()\n",
    "\n",
    "    acc = ((prediction).round() == label).sum().item()\n",
    "    total_acc_train += acc\n",
    "\n",
    "    batch_loss.backward()\n",
    "    optimizer.step()\n",
    "    optimizer.zero_grad()\n",
    "\n",
    "  ## Validation\n",
    "  with torch.no_grad():\n",
    "    for indx, data in enumerate(validation_dataloader):\n",
    "      input, label = data\n",
    "      input.to(device)\n",
    "      label.to(device)\n",
    "\n",
    "      prediction = model(input['input_ids'].squeeze(1),\n",
    "                      input['attention_mask'].squeeze(1)).squeeze(1)\n",
    "\n",
    "      batch_loss_val = criterion(prediction, label)\n",
    "      total_loss_val += batch_loss_val.item()\n",
    "\n",
    "\n",
    "      acc = ((prediction).round() == label).sum().item()\n",
    "\n",
    "      total_acc_val += acc\n",
    "\n",
    "\n",
    "  total_loss_train_plot.append(round(total_loss_train/1000, 4))\n",
    "  total_loss_validation_plot.append(round(total_loss_val/100, 4))\n",
    "  total_acc_train_plot.append(round(total_acc_train/(training_data.__len__())*100, 4))\n",
    "  total_acc_validation_plot.append(round(total_acc_val/(validation_data.__len__())*100, 4))\n",
    "\n",
    "  print(f'''Epoch no. {epoch + 1} Train Loss: {total_loss_train/1000:.4f} Train Accuracy: {(total_acc_train/(training_data.__len__())*100):.4f} Validation Loss: {total_loss_val/100:.4f} Validation Accuracy: {(total_acc_val/(validation_data.__len__())*100):.4f}''')\n",
    "  print(\"=\"*50)"
   ]
  },
  {
   "cell_type": "code",
   "execution_count": 25,
   "metadata": {},
   "outputs": [
    {
     "name": "stdout",
     "output_type": "stream",
     "text": [
      "Accuracy Score is: 85.65%\n"
     ]
    }
   ],
   "source": [
    "with torch.no_grad():\n",
    "  total_loss_test = 0\n",
    "  total_acc_test = 0\n",
    "  for indx, data in enumerate(testing_dataloader):\n",
    "    input, label = data\n",
    "    input.to(device)\n",
    "    label.to(device)\n",
    "\n",
    "    prediction = model(input['input_ids'].squeeze(1), input['attention_mask'].squeeze(1)).squeeze(1)\n",
    "\n",
    "    batch_loss_val = criterion(prediction, label)\n",
    "    total_loss_test += batch_loss_val.item()\n",
    "    acc = ((prediction).round() == label).sum().item()\n",
    "    total_acc_test += acc\n",
    "\n",
    "print(f\"Accuracy Score is: {round((total_acc_test/X_test.shape[0])*100, 2)}%\")"
   ]
  },
  {
   "cell_type": "code",
   "execution_count": 26,
   "metadata": {},
   "outputs": [
    {
     "data": {
      "image/png": "[encoded data removed]",
      "text/plain": [
       "<Figure size 1500x500 with 2 Axes>"
      ]
     },
     "metadata": {},
     "output_type": "display_data"
    }
   ],
   "source": [
    "fig, axs = plt.subplots(nrows=1, ncols=2, figsize=(15, 5))\n",
    "\n",
    "axs[0].plot(total_loss_train_plot, label='Training Loss')\n",
    "axs[0].plot(total_loss_validation_plot, label='Validation Loss')\n",
    "axs[0].set_title('Training and Validation Loss over Epochs')\n",
    "axs[0].set_xlabel('Epochs')\n",
    "axs[0].set_ylabel('Loss')\n",
    "axs[0].set_ylim([0, 1])\n",
    "axs[0].legend()\n",
    "\n",
    "axs[1].plot(total_acc_train_plot, label='Training Accuracy')\n",
    "axs[1].plot(total_acc_validation_plot, label='Validation Accuracy')\n",
    "axs[1].set_title('Training and Validation Accuracy over Epochs')\n",
    "axs[1].set_xlabel('Epochs')\n",
    "axs[1].set_ylabel('Accuracy')\n",
    "axs[1].set_ylim([0, 100])\n",
    "axs[1].legend()\n",
    "\n",
    "plt.tight_layout()\n",
    "\n",
    "plt.show()"
   ]
  }
 ],
 "metadata": {
  "kernelspec": {
   "display_name": "base",
   "language": "python",
   "name": "python3"
  },
  "language_info": {
   "codemirror_mode": {
    "name": "ipython",
    "version": 3
   },
   "file_extension": ".py",
   "mimetype": "text/x-python",
   "name": "python",
   "nbconvert_exporter": "python",
   "pygments_lexer": "ipython3",
   "version": "3.12.7"
  }
 },
 "nbformat": 4,
 "nbformat_minor": 2
}
