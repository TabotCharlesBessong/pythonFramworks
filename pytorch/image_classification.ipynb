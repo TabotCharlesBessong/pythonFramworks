{
 "cells": [
  {
   "cell_type": "code",
   "execution_count": null,
   "metadata": {},
   "outputs": [],
   "source": [
    "import torch # Main PyTorch Library\n",
    "from torch import nn # Used for creating the layers and loss function\n",
    "from torch.optim import Adam # Adam Optimizer\n",
    "import torchvision.transforms as transforms # Transform function used to modify and preprocess all the images\n",
    "from torch.utils.data import Dataset, DataLoader # Dataset class and DataLoader for creating the objects\n",
    "from sklearn.preprocessing import LabelEncoder # Label Encoder to encode the classes from strings to numbers\n",
    "import matplotlib.pyplot as plt # Used for visualizing the images and plotting the training progress\n",
    "from PIL import Image # Used to read the images from the directory\n",
    "import pandas as pd # Used to read/create dataframes (csv) and process tabular data\n",
    "import numpy as np # preprocessing and numerical/mathematical operations\n",
    "import os # Used to read the images path from the directory\n",
    "\n",
    "device = \"cuda\" if torch.cuda.is_available() else \"cpu\" # detect the GPU if any, if not use CPU, change cuda to mps if you have a mac\n",
    "print(\"Device available: \", device)"
   ]
  },
  {
   "cell_type": "code",
   "execution_count": null,
   "metadata": {},
   "outputs": [],
   "source": [
    "import os\n",
    "\n",
    "image_path = []\n",
    "labels = []\n",
    "\n",
    "for i in os.listdir(\"./DATA/afhq\"):  # Loop through main directory\n",
    "  for label in os.listdir(f\"./DATA/afhq/{i}\"):  # Corrected string formatting\n",
    "    # print(label)\n",
    "    for image in os.listdir(f\"./DATA/afhq/{i}/{label}\"):  # Corrected again\n",
    "      image_path.append(f\"DATA/afhq/{i}/{label}/{image}\")  # Uncomment if needed\n",
    "      labels.append(label)\n",
    "      \n",
    "      \n",
    "data = pd.DataFrame(zip(image_path,labels),columns=[\"image_path\",\"labels\"])\n",
    "data.head()\n"
   ]
  },
  {
   "cell_type": "code",
   "execution_count": null,
   "metadata": {},
   "outputs": [],
   "source": [
    "train = data.sample(frac=0.7)\n",
    "test = data.drop(train.index)\n",
    "val = test.sample(frac=0.5)\n",
    "test = test.drop(val.index)\n",
    "\n",
    "print(train.shape,\"\\n\",test.shape,\"\\n\",val.shape)"
   ]
  },
  {
   "cell_type": "code",
   "execution_count": null,
   "metadata": {},
   "outputs": [],
   "source": [
    "label_encoder = LabelEncoder()\n",
    "label_encoder.fit(data[\"labels\"])\n",
    "transform = transforms.Compose([\n",
    "  transforms.Resize((128,128)),\n",
    "  transforms.ToTensor(),\n",
    "  transforms.ConvertImageDtype(torch.float)\n",
    "])"
   ]
  },
  {
   "cell_type": "code",
   "execution_count": null,
   "metadata": {},
   "outputs": [],
   "source": [
    "class CustomImageDataset(Dataset):\n",
    "  def __init__(self, df, transform=None):\n",
    "    self.df = df\n",
    "    self.transform = transform\n",
    "    self.labels = torch.tensor(label_encoder.transform(df[\"labels\"])).to(device)\n",
    "    \n",
    "  def __len__(self):\n",
    "    return self.df.shape[0]\n",
    "  \n",
    "  def __getitem__(self, idx):\n",
    "    img_path = self.df.iloc[idx,0]\n",
    "    label = self.labels[idx]\n",
    "    \n",
    "    image = Image.open(img_path).convert('RGB')\n",
    "    \n",
    "    if self.transform:\n",
    "      image = self.transform(image).to(device)\n",
    "      \n",
    "    return image, label"
   ]
  },
  {
   "cell_type": "code",
   "execution_count": null,
   "metadata": {},
   "outputs": [],
   "source": [
    "train_dataset = CustomImageDataset(df=train,transform=transform)\n",
    "test_dataset = CustomImageDataset(df=test,transform=transform)\n",
    "val_dataset = CustomImageDataset(df=val,transform=transform)"
   ]
  },
  {
   "cell_type": "code",
   "execution_count": null,
   "metadata": {},
   "outputs": [],
   "source": [
    "train_dataset.__len__()"
   ]
  },
  {
   "cell_type": "code",
   "execution_count": null,
   "metadata": {},
   "outputs": [],
   "source": [
    "n_rows = 3\n",
    "n_cols = 3\n",
    "\n",
    "n_rows = 3\n",
    "n_cols = 3\n",
    "f, axarr = plt.subplots(n_rows, n_cols)\n",
    "for row in range(n_rows):\n",
    "  for col in range(n_cols):\n",
    "    image = Image.open(data.sample(n = 1)['image_path'].iloc[0]).convert(\"RGB\")\n",
    "    axarr[row, col].imshow(image)\n",
    "    axarr[row, col].axis('off')\n",
    "\n",
    "plt.show()"
   ]
  },
  {
   "cell_type": "code",
   "execution_count": null,
   "metadata": {},
   "outputs": [],
   "source": [
    "LR = 1e-4\n",
    "BATCH_SIZE = 16\n",
    "EPOCHS = 10"
   ]
  },
  {
   "cell_type": "code",
   "execution_count": null,
   "metadata": {},
   "outputs": [],
   "source": [
    "train_loader = DataLoader(train_dataset,batch_size=BATCH_SIZE,shuffle=True)\n",
    "test_loader = DataLoader(test_dataset,batch_size=BATCH_SIZE,shuffle=True)\n",
    "val_loader = DataLoader(val_dataset,batch_size=BATCH_SIZE,shuffle=True)\n",
    "\n",
    "print(train_loader)"
   ]
  },
  {
   "cell_type": "code",
   "execution_count": null,
   "metadata": {},
   "outputs": [],
   "source": [
    "class Net(nn.Module):\n",
    "  def __init__(self):\n",
    "    super().__init__()\n",
    "\n",
    "    self.conv1 = nn.Conv2d(3, 32, kernel_size = 3, padding = 1) # First Convolution layer\n",
    "    self.conv2 = nn.Conv2d(32, 64, kernel_size = 3, padding = 1) # Second Convolution layer\n",
    "    self.conv3 = nn.Conv2d(64, 128, kernel_size = 3, padding = 1) # Third Convolution layer\n",
    "    self.pooling = nn.MaxPool2d(2,2) # The pooling layer, we will be using the same layer after each conv2d.\n",
    "    self.relu = nn.ReLU() # ReLU Activation function\n",
    "\n",
    "    self.flatten = nn.Flatten() # Flatten and vectorize the output feature maps that somes from the final convolution layer.\n",
    "    self.linear = nn.Linear((128 * 16 * 16), 128) # Traditional Dense (Linear)\n",
    "    self.output = nn.Linear(128, len(data['labels'].unique())) # Output Linear Layer\n",
    "\n",
    "\n",
    "  def forward(self, x):\n",
    "    x = self.conv1(x) # -> Outputs: (32, 128, 128)\n",
    "    x = self.pooling(x)# -> Outputs: (32, 64, 64)\n",
    "    x = self.relu(x)\n",
    "    x = self.conv2(x) # -> Outputs: (64, 64, 64)\n",
    "    x = self.pooling(x) # -> Outputs: (64, 32, 32)\n",
    "    x = self.relu(x)\n",
    "    x = self.conv3(x) # -> Outputs: (128, 32, 32)\n",
    "    x = self.pooling(x) # -> Outputs: (128, 16, 16)\n",
    "    x = self.relu(x)\n",
    "    x = self.flatten(x)\n",
    "    x = self.linear(x)\n",
    "    x = self.output(x)\n",
    "\n",
    "    return x\n",
    "\n",
    "model = Net().to(device) # Create an instance of the model and move it to the GPU Device"
   ]
  },
  {
   "cell_type": "code",
   "execution_count": null,
   "metadata": {},
   "outputs": [],
   "source": [
    "from torchsummary import summary\n",
    "\n",
    "summary(model,input_size=(3,128,128))"
   ]
  },
  {
   "cell_type": "code",
   "execution_count": null,
   "metadata": {},
   "outputs": [],
   "source": [
    "criterion = nn.CrossEntropyLoss()\n",
    "optimiser = Adam(model.parameters(),lr=LR)"
   ]
  },
  {
   "cell_type": "code",
   "execution_count": null,
   "metadata": {},
   "outputs": [],
   "source": [
    "total_loss_train_plot = []\n",
    "total_loss_validation_plot = []\n",
    "total_acc_train_plot = []\n",
    "total_acc_validation_plot = []\n",
    "\n",
    "\n",
    "for epoch in range(EPOCHS):\n",
    "  total_acc_train = 0\n",
    "  total_loss_train = 0\n",
    "  total_loss_val = 0\n",
    "  total_acc_val = 0\n",
    "\n",
    "  for inputs, labels in train_loader:\n",
    "    optimiser.zero_grad()\n",
    "    outputs = model(inputs)\n",
    "    labels = labels.to(torch.long)\n",
    "    train_loss = criterion(outputs, labels)\n",
    "    total_loss_train += train_loss.item()\n",
    "    train_loss.backward()\n",
    "\n",
    "    train_acc = (torch.argmax(outputs, axis = 1) == labels).sum().item()\n",
    "    total_acc_train += train_acc\n",
    "    optimiser.step()\n",
    "\n",
    "  with torch.no_grad():\n",
    "    for inputs, labels in val_loader:\n",
    "      outputs = model(inputs)\n",
    "      labels = labels.to(torch.long)  # Convert labels to torch.long\n",
    "      val_loss = criterion(outputs, labels)\n",
    "\n",
    "      total_loss_val += val_loss.item()\n",
    "\n",
    "      val_acc = (torch.argmax(outputs, axis = 1) == labels).sum().item()\n",
    "      total_acc_val += val_acc\n",
    "\n",
    "  total_loss_train_plot.append(round(total_loss_train/1000, 4))\n",
    "  total_loss_validation_plot.append(round(total_loss_val/1000, 4))\n",
    "  total_acc_train_plot.append(round(total_acc_train/(train_dataset.__len__())*100, 4))\n",
    "  total_acc_validation_plot.append(round(total_acc_val/(val_dataset.__len__())*100, 4))\n",
    "  print(f'''Epoch {epoch+1}/{EPOCHS}, Train Loss: {round(total_loss_train/100, 4)} Train Accuracy {round((total_acc_train)/train_dataset.__len__() * 100, 4)}\n",
    "              Validation Loss: {round(total_loss_val/100, 4)} Validation Accuracy: {round((total_acc_val)/val_dataset.__len__() * 100, 4)}''')\n",
    "  print(\"=\"*50)"
   ]
  },
  {
   "cell_type": "code",
   "execution_count": null,
   "metadata": {},
   "outputs": [],
   "source": [
    "with torch.no_grad():\n",
    "  total_loss_test = 0\n",
    "  total_acc_test = 0\n",
    "  for inputs,labels in test_loader:\n",
    "    predictions = model(inputs)\n",
    "    labels = labels.to(torch.long)\n",
    "    \n",
    "    acc = (torch.argmax(predictions,axis=1)==labels).sum().item()\n",
    "    total_acc_test += acc\n",
    "    test_loss = criterion(predictions, labels)\n",
    "    total_loss_test += test_loss.item()\n",
    "    \n",
    "print(f\"Accuracy Score is: {round((total_acc_test/test_dataset.__len__()) * 100, 4)} and Loss is {round(total_loss_test/1000, 4)}\")"
   ]
  },
  {
   "cell_type": "code",
   "execution_count": null,
   "metadata": {},
   "outputs": [],
   "source": [
    "fig, axs = plt.subplots(nrows=1, ncols=2, figsize=(15, 5))\n",
    "\n",
    "axs[0].plot(total_loss_train_plot, label='Training Loss')\n",
    "axs[0].plot(total_loss_validation_plot, label='Validation Loss')\n",
    "axs[0].set_title('Training and Validation Loss over Epochs')\n",
    "axs[0].set_xlabel('Epochs')\n",
    "axs[0].set_ylabel('Loss')\n",
    "axs[0].legend()\n",
    "\n",
    "axs[1].plot(total_acc_train_plot, label='Training Accuracy')\n",
    "axs[1].plot(total_acc_validation_plot, label='Validation Accuracy')\n",
    "axs[1].set_title('Training and Validation Accuracy over Epochs')\n",
    "axs[1].set_xlabel('Epochs')\n",
    "axs[1].set_ylabel('Accuracy')\n",
    "axs[1].legend()\n",
    "\n",
    "plt.tight_layout()\n",
    "\n",
    "plt.show()"
   ]
  },
  {
   "cell_type": "code",
   "execution_count": null,
   "metadata": {},
   "outputs": [],
   "source": [
    "# 1- read image\n",
    "# 2- Transform using transform object\n",
    "# 3- predict through the model\n",
    "# 4- inverse transform by Label encoder\n",
    "\n",
    "def predict_image(image_path):\n",
    "  image = Image.open(image_path).convert('RGB')\n",
    "  image = transform(image).to(device)\n",
    "  \n",
    "  output = model(image.unsqueeze(0))\n",
    "  output = torch.argmax(output,axis=1).item()\n",
    "  return label_encoder.inverse_transform([output])\n",
    "\n",
    "## Visualize the image\n",
    "image = Image.open(\"./DATA/afhq/train/cat/flickr_cat_000002.jpg\")\n",
    "plt.imshow(image)\n",
    "plt.show()\n",
    "\n",
    "\n",
    "## Predict\n",
    "print()\n",
    "print(\"Prediction: \\n\")\n",
    "predict_image(\"./DATA/afhq/train/cat/flickr_cat_000004.jpg\")"
   ]
  },
  {
   "cell_type": "code",
   "execution_count": null,
   "metadata": {},
   "outputs": [],
   "source": []
  }
 ],
 "metadata": {
  "kernelspec": {
   "display_name": "base",
   "language": "python",
   "name": "python3"
  },
  "language_info": {
   "codemirror_mode": {
    "name": "ipython",
    "version": 3
   },
   "file_extension": ".py",
   "mimetype": "text/x-python",
   "name": "python",
   "nbconvert_exporter": "python",
   "pygments_lexer": "ipython3",
   "version": "3.12.7"
  }
 },
 "nbformat": 4,
 "nbformat_minor": 2
}
