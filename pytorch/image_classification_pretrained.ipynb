{
 "cells": [
  {
   "cell_type": "code",
   "execution_count": null,
   "metadata": {},
   "outputs": [],
   "source": [
    "import torch # Main PyTorch Library\n",
    "from torch import nn # Used for creating the layers and loss function\n",
    "from torch.optim import Adam # Adam Optimizer\n",
    "import torchvision.transforms as transforms # Transform function used to modify and preprocess all the images\n",
    "from torchvision import models # import pretrained models in PyTorch library\n",
    "from torch.utils.data import Dataset, DataLoader # Dataset class and DataLoader for creating the objects\n",
    "from sklearn.preprocessing import LabelEncoder # Label Encoder to encode the classes from strings to numbers\n",
    "import matplotlib.pyplot as plt # Used for visualizing the images and plotting the training progress\n",
    "from PIL import Image # Used to read the images from the directory\n",
    "import pandas as pd # Used to read/create dataframes (csv) and process tabular data\n",
    "import numpy as np # preprocessing and numerical/mathematical operations\n",
    "import os # Used to read the images path from the directory\n",
    "\n",
    "device = \"cuda\" if torch.cuda.is_available() else \"cpu\" # detect the GPU if any, if not use CPU, change cuda to mps if you have a mac"
   ]
  },
  {
   "cell_type": "code",
   "execution_count": null,
   "metadata": {},
   "outputs": [],
   "source": [
    "train_data = pd.read_csv(\"./DATA/pre/train.csv\")\n",
    "val_data = pd.read_csv(\"./DATA/pre/val.csv\")\n",
    "\n",
    "data = pd.concat([train_data, val_data],ignore_index=True)\n",
    "\n",
    "data[\"image:FILE\"] = \"./DATA/pre/\" + data[\"image:FILE\"]\n",
    "\n",
    "print(\"Data shape is: \", data.shape)\n",
    "data.head()"
   ]
  },
  {
   "cell_type": "code",
   "execution_count": null,
   "metadata": {},
   "outputs": [],
   "source": [
    "print(\"Classes are: \")\n",
    "print(data[\"category\"].unique())\n",
    "print()\n",
    "print(\"Classes ditrubution are: \")\n",
    "print(data[\"category\"].value_counts())"
   ]
  },
  {
   "cell_type": "code",
   "execution_count": null,
   "metadata": {},
   "outputs": [],
   "source": [
    "train = data.sample(frac=0.7,random_state=7)\n",
    "test = data.drop(train.index)"
   ]
  },
  {
   "cell_type": "code",
   "execution_count": null,
   "metadata": {},
   "outputs": [],
   "source": [
    "label_encoder = LabelEncoder()\n",
    "transform = transforms.Compose([\n",
    "  transforms.Resize((128,128)),\n",
    "  transforms.ToTensor(),\n",
    "  # transforms.Normalize(mean=[0.485, 0.456, 0.406], std=[0.229, 0.224, 0.225])\n",
    "  transforms.ConvertImageDtype(torch.float)\n",
    "])"
   ]
  },
  {
   "cell_type": "code",
   "execution_count": null,
   "metadata": {},
   "outputs": [],
   "source": [
    "class CustomImageDataset(Dataset):\n",
    "  def __init__(self, dataframe, transform=None):\n",
    "    self.dataframe = dataframe\n",
    "    self.transform = transform\n",
    "    self.labels = torch.tensor(label_encoder.fit_transform(dataframe['category'])).to(device)\n",
    "\n",
    "  def __len__(self):\n",
    "    return self.dataframe.shape[0]\n",
    "\n",
    "  def __getitem__(self, idx):\n",
    "    img_path = self.dataframe.iloc[idx, 0]\n",
    "    label = self.labels[idx]\n",
    "    image = Image.open(img_path).convert('RGB')\n",
    "    if self.transform:\n",
    "      image = (self.transform(image)/255).to(device)\n",
    "\n",
    "    return image, label"
   ]
  },
  {
   "cell_type": "code",
   "execution_count": null,
   "metadata": {},
   "outputs": [],
   "source": [
    "train_dataset = CustomImageDataset(dataframe=train, transform=transform)\n",
    "test_dataset = CustomImageDataset(dataframe=test, transform=transform)"
   ]
  },
  {
   "cell_type": "code",
   "execution_count": null,
   "metadata": {},
   "outputs": [],
   "source": [
    "n_rows = 3\n",
    "n_cols = 3\n",
    "f, axarr = plt.subplots(n_rows, n_cols)\n",
    "for row in range(n_rows):\n",
    "  for col in range(n_cols):\n",
    "    image = train_dataset[np.random.randint(0,train_dataset.__len__())][0].cpu()\n",
    "    axarr[row, col].imshow((image*255).squeeze().permute(1,2,0))\n",
    "    axarr[row, col].axis('off')\n",
    "\n",
    "plt.tight_layout()\n",
    "plt.show()"
   ]
  },
  {
   "cell_type": "code",
   "execution_count": null,
   "metadata": {},
   "outputs": [],
   "source": [
    "LR = 1e-3\n",
    "BATCH_SIZE = 4\n",
    "EPOCHS = 15"
   ]
  },
  {
   "cell_type": "code",
   "execution_count": null,
   "metadata": {},
   "outputs": [],
   "source": [
    "train_loader = DataLoader(train_dataset, batch_size=BATCH_SIZE, shuffle=True)\n",
    "test_loader = DataLoader(test_dataset, batch_size=BATCH_SIZE, shuffle=True)"
   ]
  },
  {
   "cell_type": "code",
   "execution_count": null,
   "metadata": {},
   "outputs": [],
   "source": [
    "import torchvision.models as models"
   ]
  },
  {
   "cell_type": "code",
   "execution_count": null,
   "metadata": {},
   "outputs": [],
   "source": [
    "googlenet_model = models.googlenet(weights='DEFAULT')\n",
    "for param in googlenet_model.parameters():\n",
    "  param.requires_grad = True"
   ]
  },
  {
   "cell_type": "code",
   "execution_count": null,
   "metadata": {},
   "outputs": [],
   "source": [
    "googlenet_model.fc"
   ]
  },
  {
   "cell_type": "code",
   "execution_count": null,
   "metadata": {},
   "outputs": [],
   "source": [
    "num_classes = len(data[\"category\"].unique())\n",
    "googlenet_model.fc = torch.nn.Linear(googlenet_model.fc.in_features, num_classes)\n",
    "googlenet_model.to(device)"
   ]
  },
  {
   "cell_type": "code",
   "execution_count": null,
   "metadata": {},
   "outputs": [],
   "source": [
    "# Define loss function and optimizer\n",
    "criterion = nn.CrossEntropyLoss() # Cross Entropy Loss\n",
    "optimizer = Adam(googlenet_model.parameters(), lr=LR) # Adam optimizer"
   ]
  },
  {
   "cell_type": "code",
   "execution_count": null,
   "metadata": {},
   "outputs": [],
   "source": [
    "total_loss_train_plot = []\n",
    "total_acc_train_plot = []\n",
    "\n",
    "for epoch in range(EPOCHS):\n",
    "  total_acc_train = 0\n",
    "  total_loss_train = 0\n",
    "\n",
    "  for (inputs, labels) in train_loader:\n",
    "    optimizer.zero_grad()\n",
    "    outputs = googlenet_model(inputs)\n",
    "    train_loss = criterion(outputs, labels)\n",
    "    total_loss_train += train_loss.item()\n",
    "    train_loss.backward()\n",
    "\n",
    "    train_acc = (torch.argmax(outputs, axis = 1) == labels).sum().item()\n",
    "    total_acc_train += train_acc\n",
    "    optimizer.step()\n",
    "\n",
    "  total_loss_train_plot.append(round(total_loss_train/1000, 4))\n",
    "  total_acc_train_plot.append(round(total_acc_train/(train_dataset.__len__())*100, 4))\n",
    "  print(f'Epoch {epoch+1}/{EPOCHS}, Train Loss: {round(total_loss_train/100, 4)} Train Accuracy {round((total_acc_train)/train_dataset.__len__() * 100, 4)}%')\n",
    "  print()"
   ]
  },
  {
   "cell_type": "code",
   "execution_count": null,
   "metadata": {},
   "outputs": [],
   "source": [
    "with torch.no_grad():\n",
    "  total_loss_test = 0\n",
    "  total_acc_test = 0\n",
    "  for indx, (input, labels) in enumerate(test_loader):\n",
    "\n",
    "    prediction = googlenet_model(input)\n",
    "\n",
    "    acc = (torch.argmax(prediction, axis = 1) == labels).sum().item()\n",
    "    total_acc_test += acc\n",
    "\n",
    "print(f\"Accuracy Score is: {round((total_acc_test/test_dataset.__len__())*100, 2)}%\")"
   ]
  },
  {
   "cell_type": "code",
   "execution_count": null,
   "metadata": {},
   "outputs": [],
   "source": [
    "fig, axs = plt.subplots(nrows=1, ncols=2, figsize=(15, 5))\n",
    "\n",
    "axs[0].plot(total_loss_train_plot, label='Training Loss')\n",
    "axs[0].set_title('Training Loss over Epochs')\n",
    "axs[0].set_xlabel('Epochs')\n",
    "axs[0].set_ylabel('Loss')\n",
    "axs[1].set_ylim([0, 2])\n",
    "axs[0].legend()\n",
    "\n",
    "axs[1].plot(total_acc_train_plot, label='Training Accuracy')\n",
    "axs[1].set_title('Training Accuracy over Epochs')\n",
    "axs[1].set_xlabel('Epochs')\n",
    "axs[1].set_ylabel('Accuracy')\n",
    "axs[1].set_ylim([0, 100])\n",
    "axs[1].legend()\n",
    "\n",
    "plt.tight_layout()\n",
    "\n",
    "plt.show()"
   ]
  }
 ],
 "metadata": {
  "kernelspec": {
   "display_name": "base",
   "language": "python",
   "name": "python3"
  },
  "language_info": {
   "codemirror_mode": {
    "name": "ipython",
    "version": 3
   },
   "file_extension": ".py",
   "mimetype": "text/x-python",
   "name": "python",
   "nbconvert_exporter": "python",
   "pygments_lexer": "ipython3",
   "version": "3.12.7"
  }
 },
 "nbformat": 4,
 "nbformat_minor": 2
}
