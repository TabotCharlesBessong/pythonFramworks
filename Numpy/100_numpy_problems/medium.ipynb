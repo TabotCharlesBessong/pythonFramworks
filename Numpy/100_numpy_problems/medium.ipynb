{
 "cells": [
  {
   "cell_type": "code",
   "execution_count": 1,
   "metadata": {},
   "outputs": [
    {
     "name": "stdout",
     "output_type": "stream",
     "text": [
      "The history saving thread hit an unexpected error (OperationalError('database is locked')).History will not be written to the database.\n"
     ]
    }
   ],
   "source": [
    "import pandas as pd\n",
    "import numpy as np"
   ]
  },
  {
   "cell_type": "markdown",
   "metadata": {},
   "source": [
    "# Numpy Exercise for practice"
   ]
  },
  {
   "cell_type": "markdown",
   "metadata": {},
   "source": [
    "## Medium section"
   ]
  },
  {
   "cell_type": "markdown",
   "metadata": {},
   "source": [
    "### 35. How to compute ((A+B)*(-A/2)) in place (without copy)?"
   ]
  },
  {
   "cell_type": "code",
   "execution_count": 2,
   "metadata": {},
   "outputs": [
    {
     "data": {
      "text/plain": [
       "array([ -1.,  -3.,  -6., -10.])"
      ]
     },
     "execution_count": 2,
     "metadata": {},
     "output_type": "execute_result"
    }
   ],
   "source": [
    "A = np.array([1,2,3,4])\n",
    "B = np.array([1,1,1,1])\n",
    "\n",
    "C = np.multiply((np.add(A,B)),(np.negative(A)/2))\n",
    "C"
   ]
  },
  {
   "cell_type": "markdown",
   "metadata": {},
   "source": [
    "### 36. Extract the integer part of a random array of positive numbers using 4 different methods"
   ]
  },
  {
   "cell_type": "code",
   "execution_count": 11,
   "metadata": {},
   "outputs": [
    {
     "name": "stdout",
     "output_type": "stream",
     "text": [
      "[0.13130415 2.24341752 4.47513435 1.00461334 0.03439394 3.93942651\n",
      " 0.05107653 4.56733756 4.55761439 2.86259544]\n",
      "[0. 2. 4. 1. 0. 3. 0. 4. 4. 2.]\n",
      "[0. 2. 4. 1. 0. 3. 0. 4. 4. 2.]\n",
      "[0. 2. 4. 1. 0. 3. 0. 4. 4. 2.]\n",
      "[0 2 4 1 0 3 0 4 4 2]\n",
      "[0. 2. 4. 1. 0. 3. 0. 4. 4. 2.]\n",
      "[0. 2. 4. 1. 0. 3. 0. 4. 4. 2.]\n"
     ]
    }
   ],
   "source": [
    "np.random.seed()\n",
    "\n",
    "D = np.random.random(10)*5\n",
    "print(D)\n",
    "\n",
    "# Mathode 1\n",
    "print(D // 1)\n",
    "\n",
    "# Methode 2\n",
    "print(np.floor(D))\n",
    "\n",
    "# Methode 3\n",
    "print(np.ceil(D) - 1)\n",
    "\n",
    "# Methode 4 : casting\n",
    "print(D.astype('int8'))\n",
    "\n",
    "# Mathode 5\n",
    "print(D - D % 1)\n",
    "\n",
    "# Method 6\n",
    "print(np.trunc(D))\n"
   ]
  },
  {
   "cell_type": "markdown",
   "metadata": {},
   "source": [
    "### 37. Create a 5x5 matrix with row values ranging from 0 to 4"
   ]
  },
  {
   "cell_type": "code",
   "execution_count": 14,
   "metadata": {},
   "outputs": [
    {
     "data": {
      "text/plain": [
       "array([[0, 1, 2, 3, 4],\n",
       "       [0, 1, 2, 3, 4],\n",
       "       [0, 1, 2, 3, 4],\n",
       "       [0, 1, 2, 3, 4],\n",
       "       [0, 1, 2, 3, 4]])"
      ]
     },
     "execution_count": 14,
     "metadata": {},
     "output_type": "execute_result"
    }
   ],
   "source": [
    "E = np.repeat(np.arange(5),5).reshape(5,5)\n",
    "E.transpose()"
   ]
  },
  {
   "cell_type": "code",
   "execution_count": 15,
   "metadata": {},
   "outputs": [
    {
     "data": {
      "text/plain": [
       "array([[0, 1, 2, 3, 4],\n",
       "       [0, 1, 2, 3, 4],\n",
       "       [0, 1, 2, 3, 4],\n",
       "       [0, 1, 2, 3, 4],\n",
       "       [0, 1, 2, 3, 4]])"
      ]
     },
     "execution_count": 15,
     "metadata": {},
     "output_type": "execute_result"
    }
   ],
   "source": [
    "F = np.repeat(np.arange(5),5).reshape(5,5)\n",
    "np.rot90(F)"
   ]
  },
  {
   "cell_type": "code",
   "execution_count": 16,
   "metadata": {},
   "outputs": [
    {
     "data": {
      "text/plain": [
       "array([[0., 1., 2., 3., 4.],\n",
       "       [0., 1., 2., 3., 4.],\n",
       "       [0., 1., 2., 3., 4.],\n",
       "       [0., 1., 2., 3., 4.],\n",
       "       [0., 1., 2., 3., 4.]])"
      ]
     },
     "execution_count": 16,
     "metadata": {},
     "output_type": "execute_result"
    }
   ],
   "source": [
    "G = np.zeros((5,5))\n",
    "G += np.arange(5)\n",
    "G"
   ]
  },
  {
   "cell_type": "code",
   "execution_count": 17,
   "metadata": {},
   "outputs": [
    {
     "data": {
      "text/plain": [
       "array([[0, 1, 2, 3, 4],\n",
       "       [0, 1, 2, 3, 4],\n",
       "       [0, 1, 2, 3, 4],\n",
       "       [0, 1, 2, 3, 4],\n",
       "       [0, 1, 2, 3, 4]])"
      ]
     },
     "execution_count": 17,
     "metadata": {},
     "output_type": "execute_result"
    }
   ],
   "source": [
    "H = np.tile(np.arange(0,5),(5,1))\n",
    "H"
   ]
  },
  {
   "cell_type": "markdown",
   "metadata": {},
   "source": [
    "### 38. Consider a generator function that generates 10 integers and use it to build an array"
   ]
  },
  {
   "cell_type": "code",
   "execution_count": 18,
   "metadata": {},
   "outputs": [
    {
     "data": {
      "text/plain": [
       "array([ 9, 76, 86,  0, 91, 20, 83, 37, 24, 28])"
      ]
     },
     "execution_count": 18,
     "metadata": {},
     "output_type": "execute_result"
    }
   ],
   "source": [
    "np.random.randint(0,100,10)"
   ]
  },
  {
   "cell_type": "code",
   "execution_count": 21,
   "metadata": {},
   "outputs": [
    {
     "data": {
      "text/plain": [
       "array([25., 23.,  8., 24., 28.,  3., 45., 43., 78., 59.])"
      ]
     },
     "execution_count": 21,
     "metadata": {},
     "output_type": "execute_result"
    }
   ],
   "source": [
    "def generate():\n",
    "  for x in np.random.randint(1,100,10):\n",
    "    yield x\n",
    "\n",
    "I = np.fromiter(generate(),dtype=float,count=-1)\n",
    "I"
   ]
  },
  {
   "cell_type": "markdown",
   "metadata": {},
   "source": [
    "### 39. Create a vector of size 10 with values ranging from 0 to 1, both excluded"
   ]
  },
  {
   "cell_type": "code",
   "execution_count": 22,
   "metadata": {},
   "outputs": [
    {
     "data": {
      "text/plain": [
       "array([0.95051727, 0.33889055, 0.48218989, 0.33388839, 0.79412105,\n",
       "       0.13150379, 0.70737163, 0.99085656, 0.67426092, 0.06632106])"
      ]
     },
     "execution_count": 22,
     "metadata": {},
     "output_type": "execute_result"
    }
   ],
   "source": [
    "np.random.random(10)"
   ]
  },
  {
   "cell_type": "code",
   "execution_count": 25,
   "metadata": {},
   "outputs": [
    {
     "data": {
      "text/plain": [
       "array([0.09090909, 0.18181818, 0.27272727, 0.36363636, 0.45454545,\n",
       "       0.54545455, 0.63636364, 0.72727273, 0.81818182, 0.90909091])"
      ]
     },
     "execution_count": 25,
     "metadata": {},
     "output_type": "execute_result"
    }
   ],
   "source": [
    "np.linspace(0,1,11,endpoint=False)[1:]"
   ]
  },
  {
   "cell_type": "markdown",
   "metadata": {},
   "source": [
    "### 40. Create a random vector of size 10 and sort it"
   ]
  },
  {
   "cell_type": "code",
   "execution_count": 29,
   "metadata": {},
   "outputs": [
    {
     "name": "stdout",
     "output_type": "stream",
     "text": [
      "[0.08201556 0.34361156 0.55331651 0.60648015 0.68693672 0.70641303\n",
      " 0.82936094 0.87023341 0.91696424 0.96751822]\n"
     ]
    }
   ],
   "source": [
    "J = np.random.random(10)\n",
    "print(np.sort(J))"
   ]
  },
  {
   "cell_type": "markdown",
   "metadata": {},
   "source": [
    "### 41. How to sum a smaller array faster than np.sum?"
   ]
  },
  {
   "cell_type": "code",
   "execution_count": 30,
   "metadata": {},
   "outputs": [
    {
     "data": {
      "text/plain": [
       "10"
      ]
     },
     "execution_count": 30,
     "metadata": {},
     "output_type": "execute_result"
    }
   ],
   "source": [
    "K = np.array([1,2,3,4])\n",
    "np.add.reduce(K)"
   ]
  },
  {
   "cell_type": "markdown",
   "metadata": {},
   "source": [
    "### 42. Consider two random array A and B, check if they are equal"
   ]
  },
  {
   "cell_type": "code",
   "execution_count": 31,
   "metadata": {},
   "outputs": [
    {
     "data": {
      "text/plain": [
       "False"
      ]
     },
     "execution_count": 31,
     "metadata": {},
     "output_type": "execute_result"
    }
   ],
   "source": [
    "L = np.array([0,1,2,3,4])\n",
    "M = np.array([1,2,3,4,0])\n",
    "\n",
    "np.array_equal(L,M)"
   ]
  },
  {
   "cell_type": "markdown",
   "metadata": {},
   "source": [
    "### 43. Make an array immutable (read-only)"
   ]
  },
  {
   "cell_type": "code",
   "execution_count": 33,
   "metadata": {},
   "outputs": [],
   "source": [
    "unchangable = np.array([1,2,3,4])\n",
    "unchangable.flags.writeable = False\n",
    "# unchangable[3] = 2"
   ]
  },
  {
   "cell_type": "markdown",
   "metadata": {},
   "source": [
    "### 44. Consider a random 10x2 matrix representing cartesian coordinates, convert them to polar coordinates"
   ]
  },
  {
   "cell_type": "code",
   "execution_count": null,
   "metadata": {},
   "outputs": [
    {
     "name": "stdout",
     "output_type": "stream",
     "text": [
      "[7.         4.24264069 3.         9.21954446 6.         9.21954446\n",
      " 8.06225775 9.48683298 7.81024968 7.61577311 1.57079633 0.78539816\n",
      " 1.57079633 1.35212738 0.         1.35212738 1.44644133 0.32175055\n",
      " 0.87605805 1.16590454]\n"
     ]
    },
    {
     "name": "stderr",
     "output_type": "stream",
     "text": [
      "C:\\Users\\TabotCharlesBessong\\AppData\\Local\\Temp\\ipykernel_5164\\3436679282.py:7: RuntimeWarning: divide by zero encountered in divide\n",
      "  theta = np.arctan(N[:,1]/N[:,0])\n"
     ]
    }
   ],
   "source": [
    "N = np.random.randint(0,10,(10,2))\n",
    "'''\n",
    "(x**2 + y**2) ** (1/2) = r\n",
    "arctan(y/x) = theta\n",
    "'''\n",
    "r = np.sqrt(np.sum(np.power(N,2),axis=1))\n",
    "theta = np.arctan(N[:,1]/N[:,0])\n",
    "polar = np.concatenate((r,theta))\n",
    "print(polar)"
   ]
  },
  {
   "cell_type": "markdown",
   "metadata": {},
   "source": [
    "### 45. Create random vector of size 10 and replace the maximum value by 0"
   ]
  },
  {
   "cell_type": "code",
   "execution_count": 42,
   "metadata": {},
   "outputs": [
    {
     "name": "stdout",
     "output_type": "stream",
     "text": [
      "[[1]\n",
      " [3]\n",
      " [5]\n",
      " [3]\n",
      " [9]\n",
      " [3]\n",
      " [8]\n",
      " [6]\n",
      " [8]\n",
      " [2]]\n",
      "[[1]\n",
      " [3]\n",
      " [5]\n",
      " [3]\n",
      " [0]\n",
      " [3]\n",
      " [8]\n",
      " [6]\n",
      " [8]\n",
      " [2]]\n"
     ]
    }
   ],
   "source": [
    "np.random.seed()\n",
    "\n",
    "O = np.random.randint(1,10,(10,1))\n",
    "print(O)\n",
    "O[O.argmax()] = 0\n",
    "print(O)"
   ]
  },
  {
   "cell_type": "code",
   "execution_count": 43,
   "metadata": {},
   "outputs": [
    {
     "data": {
      "text/plain": [
       "array([[1],\n",
       "       [3],\n",
       "       [5],\n",
       "       [3],\n",
       "       [0],\n",
       "       [3],\n",
       "       [8],\n",
       "       [6],\n",
       "       [8],\n",
       "       [2]])"
      ]
     },
     "execution_count": 43,
     "metadata": {},
     "output_type": "execute_result"
    }
   ],
   "source": [
    "P = np.where(O == max,0,O)\n",
    "P"
   ]
  },
  {
   "cell_type": "markdown",
   "metadata": {},
   "source": [
    "### 46. Create a structured array with x and y coordinated covering the [0,1]x[0,1] area"
   ]
  },
  {
   "cell_type": "code",
   "execution_count": 44,
   "metadata": {},
   "outputs": [],
   "source": [
    "# sorry i dont understand the problem, i guess i will not even understand the solution"
   ]
  },
  {
   "cell_type": "code",
   "execution_count": 46,
   "metadata": {},
   "outputs": [
    {
     "data": {
      "text/plain": [
       "array([[(0.  , 0.  ), (0.25, 0.  ), (0.5 , 0.  ), (0.75, 0.  ),\n",
       "        (1.  , 0.  )],\n",
       "       [(0.  , 0.25), (0.25, 0.25), (0.5 , 0.25), (0.75, 0.25),\n",
       "        (1.  , 0.25)],\n",
       "       [(0.  , 0.5 ), (0.25, 0.5 ), (0.5 , 0.5 ), (0.75, 0.5 ),\n",
       "        (1.  , 0.5 )],\n",
       "       [(0.  , 0.75), (0.25, 0.75), (0.5 , 0.75), (0.75, 0.75),\n",
       "        (1.  , 0.75)],\n",
       "       [(0.  , 1.  ), (0.25, 1.  ), (0.5 , 1.  ), (0.75, 1.  ),\n",
       "        (1.  , 1.  )]], dtype=[('x', '<f8'), ('y', '<f8')])"
      ]
     },
     "execution_count": 46,
     "metadata": {},
     "output_type": "execute_result"
    }
   ],
   "source": [
    "P = np.zeros((5,5),[('x',float),('y',float)])\n",
    "P['x'], P['y'] = np.meshgrid(np.linspace(0,1,5),np.linspace(0,1,5))\n",
    "P"
   ]
  },
  {
   "cell_type": "markdown",
   "metadata": {},
   "source": [
    "### 47. Given two arrays, X and Y, construct the Cauchy matrix C (Cij = 1/(xi - yj))"
   ]
  },
  {
   "cell_type": "code",
   "execution_count": 47,
   "metadata": {},
   "outputs": [
    {
     "data": {
      "text/plain": [
       "array([[-0.14285714, -0.16666667, -0.2       , -0.25      ],\n",
       "       [-0.125     , -0.14285714, -0.16666667, -0.2       ]])"
      ]
     },
     "execution_count": 47,
     "metadata": {},
     "output_type": "execute_result"
    }
   ],
   "source": [
    "Q = np.array([1,2,3,4])\n",
    "R = np.array([8,9])\n",
    "\n",
    "Cauchy = np.zeros((len(R),len(Q)))\n",
    "\n",
    "for i in range(len(Q)):\n",
    "  for j in range(len(R)):\n",
    "    Cauchy[j,i] = 1 / (Q[i]-R[j])\n",
    "    \n",
    "    \n",
    "Cauchy"
   ]
  },
  {
   "cell_type": "code",
   "execution_count": 50,
   "metadata": {},
   "outputs": [
    {
     "name": "stdout",
     "output_type": "stream",
     "text": [
      "3638.1636371179666\n",
      "[[-2.         -0.66666667 -0.4        -0.28571429 -0.22222222 -0.18181818\n",
      "  -0.15384615 -0.13333333]\n",
      " [ 2.         -2.         -0.66666667 -0.4        -0.28571429 -0.22222222\n",
      "  -0.18181818 -0.15384615]\n",
      " [ 0.66666667  2.         -2.         -0.66666667 -0.4        -0.28571429\n",
      "  -0.22222222 -0.18181818]\n",
      " [ 0.4         0.66666667  2.         -2.         -0.66666667 -0.4\n",
      "  -0.28571429 -0.22222222]\n",
      " [ 0.28571429  0.4         0.66666667  2.         -2.         -0.66666667\n",
      "  -0.4        -0.28571429]\n",
      " [ 0.22222222  0.28571429  0.4         0.66666667  2.         -2.\n",
      "  -0.66666667 -0.4       ]\n",
      " [ 0.18181818  0.22222222  0.28571429  0.4         0.66666667  2.\n",
      "  -2.         -0.66666667]\n",
      " [ 0.15384615  0.18181818  0.22222222  0.28571429  0.4         0.66666667\n",
      "   2.         -2.        ]]\n"
     ]
    }
   ],
   "source": [
    "S = np.arange(8)\n",
    "T = S + 0.5\n",
    "Cauchy1 = 1.0 / np.subtract.outer(S,T)\n",
    "print(np.linalg.det(Cauchy1))\n",
    "print(Cauchy1)"
   ]
  },
  {
   "cell_type": "code",
   "execution_count": null,
   "metadata": {},
   "outputs": [],
   "source": []
  }
 ],
 "metadata": {
  "kernelspec": {
   "display_name": "Python 3",
   "language": "python",
   "name": "python3"
  },
  "language_info": {
   "codemirror_mode": {
    "name": "ipython",
    "version": 3
   },
   "file_extension": ".py",
   "mimetype": "text/x-python",
   "name": "python",
   "nbconvert_exporter": "python",
   "pygments_lexer": "ipython3",
   "version": "3.11.5"
  }
 },
 "nbformat": 4,
 "nbformat_minor": 2
}
