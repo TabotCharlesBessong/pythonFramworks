{
 "cells": [
  {
   "cell_type": "code",
   "execution_count": null,
   "metadata": {},
   "outputs": [],
   "source": [
    "import pandas as pd\n",
    "import numpy as np"
   ]
  },
  {
   "cell_type": "markdown",
   "metadata": {},
   "source": [
    "### 0. Introduction"
   ]
  },
  {
   "cell_type": "code",
   "execution_count": null,
   "metadata": {},
   "outputs": [],
   "source": [
    "bios = pd.read_csv(\"../../beautiful_soup/athletes/bios.csv\")\n",
    "bios.head(2)"
   ]
  },
  {
   "cell_type": "markdown",
   "metadata": {},
   "source": [
    "### What should we clean out\n"
   ]
  },
  {
   "cell_type": "markdown",
   "metadata": {},
   "source": [
    "1. [x] get rid of bullet points\n",
    "2. [ ] Get rid of extra columns\n",
    "3. [x] split height and weight\n",
    "4. [x] Parse out dates\n",
    "5. [x] Parse out city region\n"
   ]
  },
  {
   "cell_type": "code",
   "execution_count": null,
   "metadata": {},
   "outputs": [],
   "source": [
    "len(bios[bios[\"Used name\"].str.contains(\".\")])"
   ]
  },
  {
   "cell_type": "markdown",
   "metadata": {},
   "source": [
    "### 1. Removing bullet points\n"
   ]
  },
  {
   "cell_type": "code",
   "execution_count": null,
   "metadata": {},
   "outputs": [],
   "source": [
    "bios[\"Used name\"] = bios[\"Used name\"].str.replace(\"•\", \" \")\n",
    "bios.sample(2)"
   ]
  },
  {
   "cell_type": "markdown",
   "metadata": {},
   "source": [
    "### 2. Spliting height and weight\n"
   ]
  },
  {
   "cell_type": "code",
   "execution_count": null,
   "metadata": {},
   "outputs": [],
   "source": [
    "bios[[\"height\", \"weight\"]] = bios[\"Measurements\"].str.split(\"/\", expand=True)\n",
    "bios.sample(2)"
   ]
  },
  {
   "cell_type": "code",
   "execution_count": null,
   "metadata": {},
   "outputs": [],
   "source": [
    "# check that all values have / in them\n",
    "bios[~bios[\"Measurements\"].str.contains(\"/\",na=False) & bios[\"Measurements\"].notna()]\n",
    "# get rid of \"cm\" and the \"kg\" from the new column\n",
    "bios[\"height\"] = pd.to_numeric(bios[\"height\"].str.strip(\" cm\"),errors=\"coerce\")\n",
    "bios[\"weight\"] = pd.to_numeric(bios[\"weight\"].str.strip(\" kg\"),errors=\"coerce\")\n",
    "bios.sample(5)"
   ]
  },
  {
   "cell_type": "code",
   "execution_count": null,
   "metadata": {},
   "outputs": [],
   "source": [
    "# testing a solution\n",
    "small_data = pd.DataFrame(\n",
    "    [\"183 cm\", \"180 cm / 130 kg\", \"198 cm / 80kg\", \"52kg\"], columns=[\"Measurements\"]\n",
    ")\n",
    "small_data[[\"height_cm\", \"weight_kg\"]] = small_data[\"Measurements\"].str.split(\n",
    "    \"/\", expand=True\n",
    ")\n",
    "\n",
    "small_data[\"height_cm\"] = pd.to_numeric(small_data[\"height_cm\"].str.strip(\" cm\"),errors=\"coerce\")\n",
    "small_data[\"weight_kg\"] = pd.to_numeric(small_data[\"weight_kg\"].str.strip(\" kg\"),errors=\"coerce\")\n",
    "small_data"
   ]
  },
  {
   "cell_type": "code",
   "execution_count": null,
   "metadata": {},
   "outputs": [],
   "source": [
    "# bios.sample(3)\n",
    "bios.sort_values(\"height\",ascending=False).head(3)"
   ]
  },
  {
   "cell_type": "markdown",
   "metadata": {},
   "source": [
    "### 3. Parsing Dates"
   ]
  },
  {
   "cell_type": "code",
   "execution_count": null,
   "metadata": {},
   "outputs": [],
   "source": [
    "date_pattern = r\"(\\d+ \\w+ \\d{4}|\\d{4})\"\n",
    "bios[\"born_date\"] = bios[\"Born\"].str.extract(date_pattern)\n",
    "bios[\"born_date\"] = pd.to_datetime(bios[\"born_date\"],format=\"mixed\",errors=\"coerce\")\n",
    "bios[\"born_year\"] = bios[\"Born\"].str.extract(r\"(\\d{4})\")\n",
    "bios[[\"born_date\",\"born_year\"]].sample(3)"
   ]
  },
  {
   "cell_type": "code",
   "execution_count": null,
   "metadata": {},
   "outputs": [],
   "source": [
    "bios[~bios[\"Born\"].str.match(date_pattern,na=False) & bios[\"Born\"].notna()].sample(4)"
   ]
  },
  {
   "cell_type": "code",
   "execution_count": null,
   "metadata": {},
   "outputs": [],
   "source": [
    "bios.sort_values(\"born_date\",ascending=False).head(3)"
   ]
  },
  {
   "cell_type": "code",
   "execution_count": null,
   "metadata": {},
   "outputs": [],
   "source": [
    "bios[\"die_date\"] = bios[\"Died\"].str.extract(date_pattern)\n",
    "bios[\"die_date\"] = pd.to_datetime(bios[\"die_date\"], format=\"mixed\", errors=\"coerce\")\n",
    "bios[\"die_year\"] = bios[\"Died\"].str.extract(r\"(\\d{4})\")\n",
    "bios[[\"die_date\", \"die_year\"]].sample(3)"
   ]
  },
  {
   "cell_type": "markdown",
   "metadata": {},
   "source": [
    "### 4. Parsing cities (Location)"
   ]
  },
  {
   "cell_type": "code",
   "execution_count": null,
   "metadata": {},
   "outputs": [],
   "source": [
    "location_pattern = r\"in ([\\w\\s()-]+), ([\\w\\s-]+) \\((\\w+)\\)\"\n",
    "bios[[\"born_city\", \"born_region\", \"born_country\"]] = bios[\"Born\"].str.extract(\n",
    "    location_pattern, expand=True\n",
    ")\n",
    "bios[[\"born_city\",\"born_region\",\"born_country\"]].sample(5)"
   ]
  },
  {
   "cell_type": "markdown",
   "metadata": {},
   "source": [
    "### 5. Removing unnecessary columns"
   ]
  },
  {
   "cell_type": "code",
   "execution_count": null,
   "metadata": {},
   "outputs": [],
   "source": [
    "bios.columns"
   ]
  },
  {
   "cell_type": "code",
   "execution_count": null,
   "metadata": {},
   "outputs": [],
   "source": [
    "columns_to_drop = [\"Born\", \"Used name\",\"Died\"]\n",
    "bios_droped = bios.drop(columns_to_drop, axis=1)\n",
    "bios_droped.columns"
   ]
  },
  {
   "cell_type": "code",
   "execution_count": null,
   "metadata": {},
   "outputs": [],
   "source": []
  }
 ],
 "metadata": {
  "kernelspec": {
   "display_name": "base",
   "language": "python",
   "name": "python3"
  },
  "language_info": {
   "codemirror_mode": {
    "name": "ipython",
    "version": 3
   },
   "file_extension": ".py",
   "mimetype": "text/x-python",
   "name": "python",
   "nbconvert_exporter": "python",
   "pygments_lexer": "ipython3",
   "version": "3.11.5"
  }
 },
 "nbformat": 4,
 "nbformat_minor": 2
}
