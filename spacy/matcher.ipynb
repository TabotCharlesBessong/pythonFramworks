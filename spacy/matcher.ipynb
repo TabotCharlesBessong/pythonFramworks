{
 "cells": [
  {
   "cell_type": "code",
   "execution_count": null,
   "id": "a6ad11e2",
   "metadata": {},
   "outputs": [],
   "source": [
    "import spacy\n",
    "from spacy.matcher import Matcher"
   ]
  },
  {
   "cell_type": "code",
   "execution_count": null,
   "id": "b7cc8867",
   "metadata": {},
   "outputs": [],
   "source": [
    "nlp = spacy.load(\"en_core_web_sm\")"
   ]
  },
  {
   "cell_type": "code",
   "execution_count": null,
   "id": "8160184c",
   "metadata": {},
   "outputs": [],
   "source": [
    "# creating a matcher  \n",
    "matcher = Matcher(nlp.vocab) \n",
    "# defining a pattern to match phrases like \"New York\" or \"Los Angeles\"\n",
    "pattern = [{\"LIKE_EMAIL\": True}]  # GPE stands for Geopolitical Entity\n",
    "matcher.add(\"EMAIL_ADDRESS\", [pattern])"
   ]
  },
  {
   "cell_type": "code",
   "execution_count": null,
   "id": "deac54e7",
   "metadata": {},
   "outputs": [],
   "source": [
    "doc = nlp(\"Please contact us at 1l1Uk@example.com or 3k0sK@example.com\")\n",
    "matches = matcher(doc)\n",
    "for match_id, start, end in matches:\n",
    "  span = doc[start:end]  # The matched span\n",
    "  print(f\"Matched email address: {span.text}\")"
   ]
  },
  {
   "cell_type": "code",
   "execution_count": null,
   "id": "7a37648d",
   "metadata": {},
   "outputs": [],
   "source": [
    "print(matches)"
   ]
  },
  {
   "cell_type": "code",
   "execution_count": null,
   "id": "c72c9776",
   "metadata": {},
   "outputs": [],
   "source": [
    "print(nlp.vocab[matches[0][0]].text)  # Print the matched pattern text"
   ]
  },
  {
   "cell_type": "code",
   "execution_count": null,
   "id": "25cec0c5",
   "metadata": {},
   "outputs": [],
   "source": [
    "with open (\"./DATA/wiki_mlk.txt\",\"r\") as f:\n",
    "  text = f.read()\n",
    "  \n",
    "text"
   ]
  },
  {
   "cell_type": "code",
   "execution_count": null,
   "id": "14d6fbc5",
   "metadata": {},
   "outputs": [],
   "source": [
    "nlp = spacy.load(\"en_core_web_lg\")\n",
    "matcher = Matcher(nlp.vocab)\n",
    "pattern = [{\"POS\": \"PROPN\"}]  # GPE stands for Geopolitical Entity\n",
    "matcher.add(\"PROPER_NOUN\", [pattern])\n",
    "doc = nlp(text)\n",
    "matches = matcher(doc)\n",
    "for match_id, start, end in matches:\n",
    "  span = doc[start:end]  # The matched span\n",
    "  print(f\"Matched proper noun: {span.text}\")"
   ]
  },
  {
   "cell_type": "code",
   "execution_count": null,
   "id": "161221c6",
   "metadata": {},
   "outputs": [],
   "source": [
    "print(f\"Number of matches found: {len(matches)}\")"
   ]
  },
  {
   "cell_type": "code",
   "execution_count": null,
   "id": "925b97be",
   "metadata": {},
   "outputs": [],
   "source": [
    "for match in matches[:10]:\n",
    "  print (match, doc[match[1]:match[2]])"
   ]
  },
  {
   "cell_type": "code",
   "execution_count": null,
   "id": "5f163621",
   "metadata": {},
   "outputs": [],
   "source": [
    "nlp = spacy.load(\"en_core_web_lg\")\n",
    "matcher = Matcher(nlp.vocab)\n",
    "pattern = [{\"POS\": \"PROPN\",\"OP\":\"+\"}]  # GPE stands for Geopolitical Entity\n",
    "matcher.add(\"PROPER_NOUN\", [pattern])\n",
    "doc = nlp(text)\n",
    "matches = matcher(doc)\n",
    "for match_id, start, end in matches:\n",
    "  span = doc[start:end]  # The matched span\n",
    "  print(f\"Matched proper noun: {span.text}\")"
   ]
  },
  {
   "cell_type": "code",
   "execution_count": null,
   "id": "c1db0bdc",
   "metadata": {},
   "outputs": [],
   "source": [
    "matches.sort(key=lambda x: x[1])\n",
    "for match in matches[:10]:\n",
    "  print (match, doc[match[1]:match[2]])"
   ]
  },
  {
   "cell_type": "code",
   "execution_count": null,
   "id": "dbe58a35",
   "metadata": {},
   "outputs": [],
   "source": [
    "nlp = spacy.load(\"en_core_web_lg\")\n",
    "matcher = Matcher(nlp.vocab)\n",
    "pattern = [{\"POS\": \"PROPN\",\"OP\":\"+\"},{\"POS\": \"VERB\"}]  # GPE stands for Geopolitical Entity\n",
    "matcher.add(\"PROPER_NOUN\", [pattern],greedy=\"LONGEST\")  # Greedy matching\n",
    "doc = nlp(text)\n",
    "matches = matcher(doc)\n",
    "for match_id, start, end in matches:\n",
    "  span = doc[start:end]  # The matched span\n",
    "  print(f\"Matched proper noun: {span.text}\")"
   ]
  },
  {
   "cell_type": "code",
   "execution_count": null,
   "id": "baa8d1e0",
   "metadata": {},
   "outputs": [],
   "source": [
    "import json\n",
    "with open(\"./DATA/alice.json\",\"r\") as f:\n",
    "  data = json.load(f)\n",
    "  \n",
    "text = data[0][2][0]\n",
    "print(text)"
   ]
  },
  {
   "cell_type": "code",
   "execution_count": null,
   "id": "c5d3fa87",
   "metadata": {},
   "outputs": [],
   "source": [
    "text = text.replace(\"`\",\"'\")\n",
    "print(text)"
   ]
  },
  {
   "cell_type": "code",
   "execution_count": null,
   "id": "c5aa8fe1",
   "metadata": {},
   "outputs": [],
   "source": [
    "nlp = spacy.load(\"en_core_web_lg\")\n",
    "matcher = Matcher(nlp.vocab)\n",
    "pattern = [{\"ORTH\":\"'\"},{\"IS_ALPHA\":True,\"OP\":\"+\"},{\"IS_PUNCT\":True,\"OP\":\"*\"},{\"ORTH\":\"'\"}]  # GPE stands for Geopolitical Entity\n",
    "matcher.add(\"PROPER_NOUN\", [pattern],greedy=\"LONGEST\")  # Greedy matching\n",
    "doc = nlp(text)\n",
    "matches = matcher(doc)\n",
    "for match_id, start, end in matches:\n",
    "  span = doc[start:end]  # The matched span\n",
    "  print(f\"Matched proper noun: {span.text}\")"
   ]
  },
  {
   "cell_type": "code",
   "execution_count": null,
   "id": "d492b8d6",
   "metadata": {},
   "outputs": [],
   "source": [
    "matches.sort(key=lambda x: x[1])\n",
    "for match in matches[:10]:\n",
    "  print (match, doc[match[1]:match[2]])"
   ]
  },
  {
   "cell_type": "code",
   "execution_count": null,
   "id": "3ddbb9d0",
   "metadata": {},
   "outputs": [],
   "source": [
    "speak_lemmas = [\"think\",\"say\"]\n",
    "\n",
    "nlp = spacy.load(\"en_core_web_lg\")\n",
    "matcher = Matcher(nlp.vocab)\n",
    "pattern = [{\"ORTH\":\"'\"},{\"IS_ALPHA\":True,\"OP\":\"+\"},{\"IS_PUNCT\":True,\"OP\":\"*\"},{\"ORTH\":\"'\"},{\"POS\":\"VERB\",\"LEMMA\":{\"IN\":speak_lemmas}},{\"POS\":\"PROPN\",\"OP\":\"+\"},{\"ORTH\":\"'\"},{\"IS_ALPHA\":True,\"OP\":\"+\"},{\"IS_PUNCT\":True,\"OP\":\"*\"},{\"ORTH\":\"'\"}]  # GPE stands for Geopolitical Entity\n",
    "matcher.add(\"PROPER_NOUN\", [pattern],greedy=\"LONGEST\")  # Greedy matching\n",
    "doc = nlp(text)\n",
    "matches = matcher(doc)\n",
    "matches.sort(key=lambda x: x[1])\n",
    "print(f\"Number of matches found: {len(matches)}\")\n",
    "for match_id, start, end in matches:\n",
    "  span = doc[start:end]  # The matched span\n",
    "  print(f\"Matched proper noun: {span.text}\")\n",
    "  \n",
    "for match in matches[:10]:\n",
    "  print (match, doc[match[1]:match[2]])"
   ]
  },
  {
   "cell_type": "code",
   "execution_count": null,
   "id": "52684b17",
   "metadata": {},
   "outputs": [],
   "source": [
    "for text in data[0][2]:\n",
    "  text = text.replace(\"`\",\"'\")\n",
    "  doc = nlp(text)\n",
    "  matches = matcher(doc)\n",
    "  matches.sort(key=lambda x: x[1])\n",
    "  for match in matches[:10]:\n",
    "    print (match, doc[match[1]:match[2]])"
   ]
  },
  {
   "cell_type": "code",
   "execution_count": null,
   "id": "3817cd83",
   "metadata": {},
   "outputs": [],
   "source": []
  }
 ],
 "metadata": {
  "kernelspec": {
   "display_name": "base",
   "language": "python",
   "name": "python3"
  },
  "language_info": {
   "codemirror_mode": {
    "name": "ipython",
    "version": 3
   },
   "file_extension": ".py",
   "mimetype": "text/x-python",
   "name": "python",
   "nbconvert_exporter": "python",
   "pygments_lexer": "ipython3",
   "version": "3.12.7"
  }
 },
 "nbformat": 4,
 "nbformat_minor": 5
}
