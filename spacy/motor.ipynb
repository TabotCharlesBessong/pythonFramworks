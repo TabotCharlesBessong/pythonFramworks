{
 "cells": [
  {
   "cell_type": "code",
   "execution_count": null,
   "id": "4d3a85fb",
   "metadata": {},
   "outputs": [],
   "source": [
    "import pandas as pd\n",
    "import numpy as np\n",
    "import spacy as sp"
   ]
  },
  {
   "cell_type": "code",
   "execution_count": null,
   "id": "228b0518",
   "metadata": {},
   "outputs": [],
   "source": [
    "nlp = sp.load(\"en_core_web_sm\")"
   ]
  },
  {
   "cell_type": "code",
   "execution_count": null,
   "id": "d77212c5",
   "metadata": {},
   "outputs": [],
   "source": [
    "with open (\"./DATA/wiki_us.txt\", \"r\") as f:\n",
    "  stopwords = f.read()\n",
    "  \n",
    "print(stopwords)"
   ]
  },
  {
   "cell_type": "code",
   "execution_count": null,
   "id": "062d0949",
   "metadata": {},
   "outputs": [],
   "source": [
    "doc = nlp(stopwords)"
   ]
  },
  {
   "cell_type": "code",
   "execution_count": null,
   "id": "e1a320ba",
   "metadata": {},
   "outputs": [],
   "source": [
    "print(doc)"
   ]
  },
  {
   "cell_type": "code",
   "execution_count": null,
   "id": "81d7e2dd",
   "metadata": {},
   "outputs": [],
   "source": [
    "print(len(stopwords))\n",
    "print(len(doc))"
   ]
  },
  {
   "cell_type": "code",
   "execution_count": null,
   "id": "a7b450ac",
   "metadata": {},
   "outputs": [],
   "source": [
    "for token in stopwords[0:10]:\n",
    "  print(token)"
   ]
  },
  {
   "cell_type": "code",
   "execution_count": null,
   "id": "f6d59802",
   "metadata": {},
   "outputs": [],
   "source": [
    "for token in doc[0:10]:\n",
    "  print(token)"
   ]
  },
  {
   "cell_type": "code",
   "execution_count": null,
   "id": "3f2cad70",
   "metadata": {},
   "outputs": [],
   "source": [
    "for token in stopwords.split()[:10]:\n",
    "  print(token)"
   ]
  },
  {
   "cell_type": "code",
   "execution_count": null,
   "id": "c8c269db",
   "metadata": {},
   "outputs": [],
   "source": [
    "for sent in doc.sents:\n",
    "  print(sent)"
   ]
  },
  {
   "cell_type": "code",
   "execution_count": null,
   "id": "ccdba1dc",
   "metadata": {},
   "outputs": [],
   "source": [
    "# uncomment the following lines to see the first sentence but will lead to an error\n",
    "# sentence1 = doc.sents[0]\n",
    "# print(sentence1)"
   ]
  },
  {
   "cell_type": "code",
   "execution_count": null,
   "id": "2f0533e4",
   "metadata": {},
   "outputs": [],
   "source": [
    "sentence1 = list(doc.sents)[0]\n",
    "print(sentence1)"
   ]
  },
  {
   "cell_type": "code",
   "execution_count": null,
   "id": "1b8b86bd",
   "metadata": {},
   "outputs": [],
   "source": [
    "token2 = sentence1[2]\n",
    "print(token2)"
   ]
  },
  {
   "cell_type": "code",
   "execution_count": null,
   "id": "6df60aeb",
   "metadata": {},
   "outputs": [],
   "source": [
    "token2.text"
   ]
  },
  {
   "cell_type": "code",
   "execution_count": null,
   "id": "ec109015",
   "metadata": {},
   "outputs": [],
   "source": [
    "token2.left_edge"
   ]
  },
  {
   "cell_type": "code",
   "execution_count": null,
   "id": "39dba601",
   "metadata": {},
   "outputs": [],
   "source": [
    "token2.right_edge"
   ]
  },
  {
   "cell_type": "code",
   "execution_count": null,
   "id": "cdd59eb3",
   "metadata": {},
   "outputs": [],
   "source": [
    "token2.ent_type"
   ]
  },
  {
   "cell_type": "code",
   "execution_count": null,
   "id": "471b5702",
   "metadata": {},
   "outputs": [],
   "source": [
    "token2.ent_type_"
   ]
  },
  {
   "cell_type": "code",
   "execution_count": null,
   "id": "10f03c77",
   "metadata": {},
   "outputs": [],
   "source": [
    "token2.ent_iob_"
   ]
  },
  {
   "cell_type": "code",
   "execution_count": null,
   "id": "d6466836",
   "metadata": {},
   "outputs": [],
   "source": [
    "token2.lemma_"
   ]
  },
  {
   "cell_type": "code",
   "execution_count": null,
   "id": "236e607a",
   "metadata": {},
   "outputs": [],
   "source": [
    "sentence1[12].lemma_"
   ]
  },
  {
   "cell_type": "code",
   "execution_count": null,
   "id": "5141a0bb",
   "metadata": {},
   "outputs": [],
   "source": [
    "token2.morph"
   ]
  },
  {
   "cell_type": "code",
   "execution_count": null,
   "id": "87bc3d99",
   "metadata": {},
   "outputs": [],
   "source": [
    "token2.pos_"
   ]
  },
  {
   "cell_type": "code",
   "execution_count": null,
   "id": "7e6d6be2",
   "metadata": {},
   "outputs": [],
   "source": [
    "token2.dep_"
   ]
  },
  {
   "cell_type": "code",
   "execution_count": null,
   "id": "e20f3b04",
   "metadata": {},
   "outputs": [],
   "source": [
    "token2.lang_"
   ]
  },
  {
   "cell_type": "code",
   "execution_count": null,
   "id": "625eb3bd",
   "metadata": {},
   "outputs": [],
   "source": []
  }
 ],
 "metadata": {
  "kernelspec": {
   "display_name": "base",
   "language": "python",
   "name": "python3"
  },
  "language_info": {
   "codemirror_mode": {
    "name": "ipython",
    "version": 3
   },
   "file_extension": ".py",
   "mimetype": "text/x-python",
   "name": "python",
   "nbconvert_exporter": "python",
   "pygments_lexer": "ipython3",
   "version": "3.12.7"
  }
 },
 "nbformat": 4,
 "nbformat_minor": 5
}
