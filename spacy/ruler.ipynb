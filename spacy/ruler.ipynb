{
 "cells": [
  {
   "cell_type": "code",
   "execution_count": null,
   "id": "2a2d350e",
   "metadata": {},
   "outputs": [],
   "source": [
    "import spacy"
   ]
  },
  {
   "cell_type": "code",
   "execution_count": null,
   "id": "a53e450c",
   "metadata": {},
   "outputs": [],
   "source": [
    "nlp = spacy.load(\"en_core_web_sm\")\n",
    "text = \"West Chestertenfieldville was referenced in Mr. Deeds\"\n",
    "doc = nlp(text)"
   ]
  },
  {
   "cell_type": "code",
   "execution_count": null,
   "id": "55ceb5db",
   "metadata": {},
   "outputs": [],
   "source": [
    "for ent in doc.ents:\n",
    "  print(ent.text, ent.label_)"
   ]
  },
  {
   "cell_type": "code",
   "execution_count": null,
   "id": "6a40d45b",
   "metadata": {},
   "outputs": [],
   "source": [
    "# make a ruler\n",
    "ruler = nlp.add_pipe(\"entity_ruler\", before=\"ner\")\n",
    "nlp.analyze_pipes()"
   ]
  },
  {
   "cell_type": "code",
   "execution_count": null,
   "id": "eaac444f",
   "metadata": {},
   "outputs": [],
   "source": [
    "patterns = [\n",
    "  {\"label\": \"GPE\",\n",
    "   \"pattern\": [{\"LOWER\": \"west\"}, {\"LOWER\": \"chestertenfieldville\"}]},\n",
    "  {\"label\": \"MOVIE\", \"pattern\": [{\"LOWER\": \"mr.\"}, {\"LOWER\": \"deeds\"}]}\n",
    "]"
   ]
  },
  {
   "cell_type": "code",
   "execution_count": null,
   "id": "130362f7",
   "metadata": {},
   "outputs": [],
   "source": [
    "# load into ruler\n",
    "ruler.add_patterns(patterns)\n",
    "\n",
    "doc2 = nlp(text)\n",
    "for ent in doc2.ents:\n",
    "  print(ent.text, ent.label_)"
   ]
  },
  {
   "cell_type": "code",
   "execution_count": null,
   "id": "ce43ef81",
   "metadata": {},
   "outputs": [],
   "source": [
    "nlp2 = spacy.load(\"en_core_web_sm\")\n",
    "\n",
    "ruler = nlp2.add_pipe(\"entity_ruler\", before=\"ner\")\n",
    "\n",
    "ruler.add_patterns(patterns)"
   ]
  },
  {
   "cell_type": "code",
   "execution_count": null,
   "id": "8bdaf747",
   "metadata": {},
   "outputs": [],
   "source": [
    "doc = nlp2(text)\n",
    "for ent in doc.ents:\n",
    "  print(ent.text, ent.label_)"
   ]
  },
  {
   "cell_type": "code",
   "execution_count": null,
   "id": "20e8f6b9",
   "metadata": {},
   "outputs": [],
   "source": []
  }
 ],
 "metadata": {
  "kernelspec": {
   "display_name": "base",
   "language": "python",
   "name": "python3"
  },
  "language_info": {
   "codemirror_mode": {
    "name": "ipython",
    "version": 3
   },
   "file_extension": ".py",
   "mimetype": "text/x-python",
   "name": "python",
   "nbconvert_exporter": "python",
   "pygments_lexer": "ipython3",
   "version": "3.12.7"
  }
 },
 "nbformat": 4,
 "nbformat_minor": 5
}
