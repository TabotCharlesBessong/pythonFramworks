{
 "cells": [
  {
   "cell_type": "code",
   "execution_count": null,
   "id": "0d5d1fcb",
   "metadata": {},
   "outputs": [],
   "source": [
    "import spacy"
   ]
  },
  {
   "cell_type": "code",
   "execution_count": null,
   "id": "3f43b443",
   "metadata": {},
   "outputs": [],
   "source": [
    "nlp = spacy.load(\"en_core_web_sm\")\n",
    "doc = nlp(\"Britain is a place. Mary is a doctor.\")"
   ]
  },
  {
   "cell_type": "code",
   "execution_count": null,
   "id": "4cad72b4",
   "metadata": {},
   "outputs": [],
   "source": [
    "for ent in doc.ents:\n",
    "  print(ent.text, ent.label_)"
   ]
  },
  {
   "cell_type": "code",
   "execution_count": null,
   "id": "946d6864",
   "metadata": {},
   "outputs": [],
   "source": [
    "from spacy.language import Language"
   ]
  },
  {
   "cell_type": "code",
   "execution_count": null,
   "id": "5a95d970",
   "metadata": {},
   "outputs": [],
   "source": [
    "@Language.component(\"removed_gpe\")\n",
    "\n",
    "def removed_gpe(doc):\n",
    "  original_ents = list(doc.ents)\n",
    "  for ent in doc.ents:\n",
    "    if ent.label_ == \"GPE\":\n",
    "      original_ents.remove(ent) # remove GPE entities\n",
    "  doc.ents = original_ents\n",
    "  return doc"
   ]
  },
  {
   "cell_type": "code",
   "execution_count": null,
   "id": "8ccc4bda",
   "metadata": {},
   "outputs": [],
   "source": [
    "nlp.add_pipe(\"removed_gpe\")"
   ]
  },
  {
   "cell_type": "code",
   "execution_count": null,
   "id": "943533ad",
   "metadata": {},
   "outputs": [],
   "source": [
    "nlp.analyze_pipes()"
   ]
  },
  {
   "cell_type": "code",
   "execution_count": null,
   "id": "0f64c0be",
   "metadata": {},
   "outputs": [],
   "source": [
    "doc = nlp(\"Britain is a place. Mary is a doctor.\")\n",
    "for ent in doc.ents:\n",
    "  print(ent.text, ent.label_)"
   ]
  },
  {
   "cell_type": "code",
   "execution_count": null,
   "id": "3deb9c79",
   "metadata": {},
   "outputs": [],
   "source": []
  }
 ],
 "metadata": {
  "kernelspec": {
   "display_name": "base",
   "language": "python",
   "name": "python3"
  },
  "language_info": {
   "codemirror_mode": {
    "name": "ipython",
    "version": 3
   },
   "file_extension": ".py",
   "mimetype": "text/x-python",
   "name": "python",
   "nbconvert_exporter": "python",
   "pygments_lexer": "ipython3",
   "version": "3.12.7"
  }
 },
 "nbformat": 4,
 "nbformat_minor": 5
}
