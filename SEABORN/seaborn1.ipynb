{
 "cells": [
  {
   "cell_type": "code",
   "execution_count": null,
   "metadata": {},
   "outputs": [],
   "source": [
    "import pandas as pd \n",
    "import numpy as np \n",
    "import matplotlib.pyplot as plt \n",
    "\n",
    "a = np.arange(20)\n",
    "a "
   ]
  },
  {
   "cell_type": "code",
   "execution_count": null,
   "metadata": {},
   "outputs": [],
   "source": [
    "import  seaborn as sns\n",
    "sns.get_dataset_names()"
   ]
  },
  {
   "cell_type": "code",
   "execution_count": null,
   "metadata": {},
   "outputs": [],
   "source": [
    "df1 = sns.load_dataset('anagrams')\n",
    "df1.head()"
   ]
  },
  {
   "cell_type": "code",
   "execution_count": null,
   "metadata": {},
   "outputs": [],
   "source": [
    "from IPython.display import Image\n",
    "Image(filename='./images/seaborn1.png')"
   ]
  },
  {
   "cell_type": "markdown",
   "metadata": {},
   "source": [
    "we have  3  types of plots in seaborn "
   ]
  },
  {
   "cell_type": "code",
   "execution_count": null,
   "metadata": {},
   "outputs": [],
   "source": [
    "%matplotlib inline \n",
    "import matplotlib.pyplot as plt \n"
   ]
  },
  {
   "cell_type": "markdown",
   "metadata": {},
   "source": [
    "Histograms with seaborn "
   ]
  },
  {
   "cell_type": "code",
   "execution_count": null,
   "metadata": {},
   "outputs": [],
   "source": [
    "penguins  = sns.load_dataset('penguins')\n",
    "penguins"
   ]
  },
  {
   "cell_type": "code",
   "execution_count": null,
   "metadata": {},
   "outputs": [],
   "source": [
    "import matplotlib.pyplot as plt\n",
    "sns.histplot(data=penguins,\n",
    "            x = \"flipper_length_mm\" \n",
    "             )\n",
    "plt.show()"
   ]
  },
  {
   "cell_type": "code",
   "execution_count": null,
   "metadata": {},
   "outputs": [],
   "source": [
    "sns.histplot(data=penguins,\n",
    "            x = \"bill_length_mm\" ,\n",
    "            binwidth=1,\n",
    "            kde=True\n",
    "             )\n",
    "plt.show()"
   ]
  },
  {
   "cell_type": "code",
   "execution_count": null,
   "metadata": {},
   "outputs": [],
   "source": [
    "sns.histplot(data=penguins,\n",
    "            x = \"bill_length_mm\" ,\n",
    "            binwidth=1,\n",
    "            # kde=True,\n",
    "            hue='species',\n",
    "            multiple='stack'\n",
    "             )\n",
    "plt.show()"
   ]
  },
  {
   "cell_type": "code",
   "execution_count": null,
   "metadata": {},
   "outputs": [],
   "source": [
    "sns.histplot(data=penguins,\n",
    "            x = \"bill_length_mm\" ,\n",
    "            binwidth=1,\n",
    "            # kde=True,\n",
    "            hue='species',\n",
    "            # multiple='stack'\n",
    "            element='step'\n",
    "             )\n",
    "plt.show()"
   ]
  },
  {
   "cell_type": "code",
   "execution_count": null,
   "metadata": {},
   "outputs": [],
   "source": [
    "sns.histplot(data=penguins,\n",
    "            x = \"bill_length_mm\" ,\n",
    "            binwidth=1,\n",
    "            # kde=True,\n",
    "            hue='species',\n",
    "            # multiple='stack'\n",
    "            element='poly'\n",
    "             )\n",
    "plt.show()"
   ]
  },
  {
   "cell_type": "code",
   "execution_count": null,
   "metadata": {},
   "outputs": [],
   "source": [
    "sns.histplot(data=penguins,\n",
    "            x = \"bill_length_mm\" ,\n",
    "            # binwidth=1,\n",
    "            # kde=True,\n",
    "            hue='species',\n",
    "            # multiple='stack'\n",
    "            element='step',\n",
    "            stat='density',\n",
    "            common_norm=False\n",
    "             )\n",
    "plt.show()"
   ]
  },
  {
   "cell_type": "code",
   "execution_count": null,
   "metadata": {},
   "outputs": [],
   "source": [
    "sns.histplot(data=penguins,\n",
    "            x = \"bill_length_mm\" ,\n",
    "            # binwidth=1,\n",
    "            # kde=True,\n",
    "            hue='species',\n",
    "            # multiple='stack'\n",
    "            element='step',\n",
    "            stat='density',\n",
    "            common_norm=True\n",
    "             )\n",
    "plt.show()"
   ]
  },
  {
   "cell_type": "code",
   "execution_count": null,
   "metadata": {},
   "outputs": [],
   "source": [
    "tips = sns.load_dataset('tips')\n",
    "tips "
   ]
  },
  {
   "cell_type": "code",
   "execution_count": 9,
   "metadata": {},
   "outputs": [
    {
     "data": {
      "image/png": "[encoded data removed]",
      "text/plain": [
       "<Figure size 432x288 with 1 Axes>"
      ]
     },
     "metadata": {
      "needs_background": "light"
     },
     "output_type": "display_data"
    }
   ],
   "source": [
    "import matplotlib.pyplot as plt\n",
    "sns.histplot(data=tips,\n",
    "             x='size',\n",
    "             stat='percent',\n",
    "             discrete=True,\n",
    "             hue='sex',\n",
    "             multiple='dodge'\n",
    "             )\n",
    "\n",
    "plt.show()"
   ]
  },
  {
   "cell_type": "code",
   "execution_count": null,
   "metadata": {},
   "outputs": [],
   "source": [
    "planets = sns.load_dataset('planets')\n",
    "planets"
   ]
  },
  {
   "cell_type": "code",
   "execution_count": null,
   "metadata": {},
   "outputs": [],
   "source": [
    "sns.histplot(data=planets,\n",
    "             x = 'distance'\n",
    "             )\n",
    "plt.show()"
   ]
  },
  {
   "cell_type": "code",
   "execution_count": null,
   "metadata": {},
   "outputs": [],
   "source": [
    "sns.histplot(data=planets,\n",
    "             x = 'distance',\n",
    "             log_scale=True,\n",
    "             fill=False\n",
    "             )\n",
    "plt.show()"
   ]
  },
  {
   "cell_type": "code",
   "execution_count": null,
   "metadata": {},
   "outputs": [],
   "source": [
    "sns.histplot(penguins,y='body_mass_g',\n",
    "             x='bill_depth_mm',\n",
    "             hue='species' \n",
    "             )\n",
    "plt.show()\n",
    "# 2 dimensional instogram"
   ]
  },
  {
   "cell_type": "code",
   "execution_count": null,
   "metadata": {},
   "outputs": [],
   "source": [
    "sns.histplot(data=planets,\n",
    "             x='year',\n",
    "             y='distance',\n",
    "             discrete=(True,False),\n",
    "             log_scale=(False,True),\n",
    "             cbar=True,\n",
    "             cbar_kws=dict(shrink=0.75)\n",
    "             )\n",
    "plt.show()"
   ]
  },
  {
   "cell_type": "markdown",
   "metadata": {},
   "source": [
    "scaterred plot "
   ]
  },
  {
   "cell_type": "code",
   "execution_count": null,
   "metadata": {},
   "outputs": [],
   "source": [
    "sns.scatterplot(data=tips,\n",
    "                x='total_bill',\n",
    "                y='tip'\n",
    "                )\n",
    "plt.show()"
   ]
  },
  {
   "cell_type": "code",
   "execution_count": null,
   "metadata": {},
   "outputs": [],
   "source": [
    "sns.scatterplot(data=tips,\n",
    "                x='total_bill',\n",
    "                y='tip',\n",
    "                hue='time',\n",
    "                style='time'\n",
    "                )\n",
    "plt.show()"
   ]
  },
  {
   "cell_type": "code",
   "execution_count": null,
   "metadata": {},
   "outputs": [],
   "source": [
    "sns.scatterplot(data=tips,\n",
    "                x='total_bill',\n",
    "                y='tip',\n",
    "                # hue='time',\n",
    "                style='time'\n",
    "                )\n",
    "plt.show()"
   ]
  },
  {
   "cell_type": "code",
   "execution_count": null,
   "metadata": {},
   "outputs": [],
   "source": [
    "sns.scatterplot(data=tips,\n",
    "                x='total_bill',\n",
    "                y='tip',\n",
    "                hue='day',\n",
    "                style='time'\n",
    "                )\n",
    "plt.show()"
   ]
  },
  {
   "cell_type": "code",
   "execution_count": null,
   "metadata": {},
   "outputs": [],
   "source": [
    "sns.scatterplot(data=tips,\n",
    "                x='total_bill',\n",
    "                y='tip',\n",
    "                hue='size',\n",
    "                # style='time',\n",
    "                palette='deep',\n",
    "                size='size'\n",
    "                )\n",
    "plt.show()"
   ]
  },
  {
   "cell_type": "code",
   "execution_count": null,
   "metadata": {},
   "outputs": [],
   "source": [
    "tip_rate = tips.eval('tip/total_bill').rename('tip_rate')\n",
    "tip_rate"
   ]
  },
  {
   "cell_type": "code",
   "execution_count": null,
   "metadata": {},
   "outputs": [],
   "source": [
    "sns.scatterplot(data=tips,\n",
    "                x='total_bill',\n",
    "                y='tip',\n",
    "                hue=tip_rate,\n",
    "                # style='time',\n",
    "                palette='deep',\n",
    "                )\n",
    "plt.show()"
   ]
  },
  {
   "cell_type": "code",
   "execution_count": null,
   "metadata": {},
   "outputs": [],
   "source": [
    "sns.scatterplot(data=tips,\n",
    "                x='total_bill',\n",
    "                y='tip',\n",
    "                hue='size',\n",
    "                # style='time',\n",
    "                palette='deep',\n",
    "                sizes=(20,200),\n",
    "                # legend='full',\n",
    "                )\n",
    "plt.show()"
   ]
  },
  {
   "cell_type": "code",
   "execution_count": null,
   "metadata": {},
   "outputs": [],
   "source": [
    "sns.scatterplot(data=tips,\n",
    "                x='total_bill',\n",
    "                y='tip',\n",
    "                hue='size',\n",
    "                hue_norm=(0,7),\n",
    "                # style='time',\n",
    "                palette='deep',\n",
    "                sizes=(20,200),\n",
    "                # legend='full',\n",
    "                \n",
    "                )\n",
    "plt.show()"
   ]
  },
  {
   "cell_type": "code",
   "execution_count": null,
   "metadata": {},
   "outputs": [],
   "source": [
    "markers = {'Lunch':'s','Dinner':'X'}\n",
    "sns.scatterplot(data=tips,\n",
    "                x='total_bill',\n",
    "                y='tip',\n",
    "                style='time',\n",
    "                markers=markers \n",
    "                )\n",
    "plt.show()"
   ]
  },
  {
   "cell_type": "code",
   "execution_count": null,
   "metadata": {},
   "outputs": [],
   "source": [
    "import seaborn as sns \n",
    "sns.scatterplot(data=tips,\n",
    "                x='total_bill',\n",
    "                y='tip',\n",
    "                # style='time',\n",
    "                s=100,\n",
    "                marker=\"+\" ,\n",
    "                color =\".2\"\n",
    "                )\n",
    "plt.show()"
   ]
  },
  {
   "cell_type": "code",
   "execution_count": null,
   "metadata": {},
   "outputs": [],
   "source": [
    "import pandas as pd\n",
    "import numpy as np \n",
    "\n",
    "index = pd.date_range('1/1/2020',periods=100, freq='m', name='date' )\n",
    "data = np.random.randn(100,4).cumsum(axis=0)\n",
    "wideDf = pd.DataFrame(data,index,['a','b','c','d'])\n",
    "sns.scatterplot(data=wideDf)\n",
    "plt.show()"
   ]
  },
  {
   "cell_type": "code",
   "execution_count": 18,
   "metadata": {},
   "outputs": [
    {
     "data": {
      "image/png": "[encoded data removed]",
      "text/plain": [
       "<Figure size 778.875x360 with 2 Axes>"
      ]
     },
     "metadata": {
      "needs_background": "light"
     },
     "output_type": "display_data"
    }
   ],
   "source": [
    "sns.relplot(data=tips,\n",
    "            x='total_bill',\n",
    "            y='tip',col='time',hue='day',style='day',kind='scatter'\n",
    "            )\n",
    "plt.show()"
   ]
  }
 ],
 "metadata": {
  "interpreter": {
   "hash": "4d0310b91336df3db36e190317e40238e7fecc2883b8d315e1dda669cc35f8c7"
  },
  "kernelspec": {
   "display_name": "Python 3.10.0 64-bit",
   "language": "python",
   "name": "python3"
  },
  "language_info": {
   "codemirror_mode": {
    "name": "ipython",
    "version": 3
   },
   "file_extension": ".py",
   "mimetype": "text/x-python",
   "name": "python",
   "nbconvert_exporter": "python",
   "pygments_lexer": "ipython3",
   "version": "3.10.0"
  },
  "orig_nbformat": 4
 },
 "nbformat": 4,
 "nbformat_minor": 2
}
