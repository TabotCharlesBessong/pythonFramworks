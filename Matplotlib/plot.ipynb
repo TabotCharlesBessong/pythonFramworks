{
 "cells": [
  {
   "cell_type": "code",
   "execution_count": null,
   "metadata": {},
   "outputs": [],
   "source": [
    "import matplotlib.pyplot as plt \n",
    "import numpy as np \n",
    "import pandas as pd "
   ]
  },
  {
   "cell_type": "code",
   "execution_count": null,
   "metadata": {},
   "outputs": [],
   "source": [
    "### Graph"
   ]
  },
  {
   "cell_type": "code",
   "execution_count": null,
   "metadata": {},
   "outputs": [],
   "source": [
    "import matplotlib.pyplot as plt \n",
    "import numpy as np \n",
    "import pandas as pd\n",
    "\n",
    "plt.plot([1,2,3],[4,5,6 ])"
   ]
  },
  {
   "cell_type": "code",
   "execution_count": null,
   "metadata": {},
   "outputs": [],
   "source": [
    "x = [0,1,2,3,4,5]\n",
    "y = [0,2,4,6,8,10]\n",
    "\n",
    "plt.figure(figsize=(5,3) , dpi=250)\n",
    "\n",
    "# plt.plot(x,y,label='2X',color='green',linewidth=4,linestyle='--',marker = '.',markersize=10)\n",
    "import numpy as np \n",
    "x2 = np.arange(0,4,0.5)\n",
    "x2\n",
    "plt.plot(x2[:4],x2[:4]**2,'y', label='X^2' )\n",
    "plt.plot(x2[3:],x2[3:]**2 , 'o--')\n",
    "plt.plot(x,y,'g^--',label='2x')\n",
    "plt.title('Our first graph',fontdict={'fontname':'Comic Sans MS','fontsize':24})\n",
    "plt.xlabel('X:axis',fontdict={'fontname':'Comic Sans MS','fontsize':16})\n",
    "plt.ylabel('Y:axis')\n",
    "plt.xticks([0,1,2,3.4])\n",
    "plt.yticks([0,2,4,6,8,10])\n",
    "plt.legend()\n",
    "plt.savefig('graph.png',dpi=500)\n",
    "plt.show()\n",
    "\n"
   ]
  },
  {
   "cell_type": "markdown",
   "metadata": {},
   "source": [
    "Next Line 2"
   ]
  },
  {
   "cell_type": "code",
   "execution_count": null,
   "metadata": {},
   "outputs": [],
   "source": [
    "import numpy as np \n",
    "x2 = np.arange(0,4,0.5)\n",
    "x2\n",
    "plt.plot(x2,x2**2)"
   ]
  },
  {
   "cell_type": "markdown",
   "metadata": {},
   "source": [
    "Barchart"
   ]
  },
  {
   "cell_type": "code",
   "execution_count": null,
   "metadata": {},
   "outputs": [],
   "source": [
    "labels = ['A','B','C']\n",
    "values = [1,4,2]\n",
    "bars = plt.bar(labels,values)\n",
    "patterns = ['/','o','*']\n",
    "for bar in bars:\n",
    "  bar.set_hatch(patterns.pop(0))\n",
    "plt.title('Bar Chart')\n",
    "plt.figure(figsize=(6,4),dpi=200 )\n",
    "plt.show()"
   ]
  },
  {
   "cell_type": "code",
   "execution_count": null,
   "metadata": {},
   "outputs": [],
   "source": [
    "gas = pd.read_csv('gas_prices.csv')\n",
    "\n",
    "# This gives  us the size of our plot\n",
    "plt.figure(figsize=(8,5))\n",
    "\n",
    "plt.title('Gas Prices over Time (in USD)', fontdict={'fontweight':'bold', 'fontsize': 24})\n",
    "\n",
    "plt.plot(gas.Year, gas.USA, 'b.-', label='United States')\n",
    "plt.plot(gas['Year'], gas.Canada, 'r.-',label='Canada')\n",
    "plt.plot(gas.Year, gas['South Korea'], 'g.-',label='South Korea')\n",
    "plt.plot(gas.Year, gas.Australia, 'y.-',label='Australia')\n",
    "plt.plot(gas.Year, gas['France'], 'p--',label='France')\n",
    "plt.plot(gas.Year, gas.Germany, 'r--',label='Germany')\n",
    "# plt.legend()\n",
    " \n",
    "# Another Way to plot many values!\n",
    "# countries_to_look_at = ['Australia', 'USA', 'Canada', 'South Korea']\n",
    "# for country in gas:\n",
    "#     if country in countries_to_look_at:\n",
    "#         plt.plot(gas.Year, gas[country], marker='.')\n",
    "\n",
    "# Here we have our x axis labels\n",
    "plt.xticks(gas.Year[::3].tolist()+[2011])\n",
    "\n",
    "plt.xlabel('Year')\n",
    "plt.ylabel('US Dollars')\n",
    "\n",
    "plt.legend()\n",
    "\n",
    "plt.savefig('Gas_price_figure.png', dpi=800)\n",
    "\n",
    "plt.show()"
   ]
  },
  {
   "cell_type": "code",
   "execution_count": null,
   "metadata": {},
   "outputs": [],
   "source": [
    "print(gas)\n",
    "print(gas.Year)"
   ]
  },
  {
   "cell_type": "markdown",
   "metadata": {},
   "source": [
    "FIFA DATA"
   ]
  },
  {
   "cell_type": "code",
   "execution_count": null,
   "metadata": {},
   "outputs": [],
   "source": [
    "fifa = pd.read_csv('fifa_data.csv')\n",
    "fifa"
   ]
  },
  {
   "cell_type": "code",
   "execution_count": null,
   "metadata": {},
   "outputs": [],
   "source": [
    "bins = [50,60,70,80,90,100]\n",
    "\n",
    "plt.hist(fifa.Overall,bins=bins,color='#1ab785')\n",
    "plt.xticks(bins)\n",
    "plt.ylabel('Number of players')\n",
    "plt.xlabel('Skill level')\n",
    "plt.title('fifa player level')\n",
    "plt.show()"
   ]
  },
  {
   "cell_type": "markdown",
   "metadata": {},
   "source": [
    "PIE CHART"
   ]
  },
  {
   "cell_type": "code",
   "execution_count": null,
   "metadata": {},
   "outputs": [],
   "source": [
    "left = fifa.loc[fifa['Preferred Foot'] == 'Left' ].count()[0]\n",
    "right = fifa.loc[fifa['Preferred Foot'] == 'Right' ].count()[0]\n",
    "\n",
    "labels = ['Left','Right']\n",
    "colors = ['#ca4572','#34ab56']\n",
    "plt.pie([left,right],labels=labels,colors=colors,autopct='%.2f')\n",
    "plt.title('Fifa prefered foot of players')\n",
    "# plt.xlabel('')\n",
    "plt.show()"
   ]
  },
  {
   "cell_type": "code",
   "execution_count": null,
   "metadata": {},
   "outputs": [],
   "source": [
    "fifa.Weight = [int( x.strip('lbs')) if type(x) == str else x for x in fifa.Weight  ]\n",
    "\n",
    "light =fifa.loc[(fifa.Weight < 125)  ].count()[0]\n",
    "lightMedium =fifa.loc[(fifa.Weight >= 125) & (fifa.Weight < 150 )  ].count()[0]\n",
    "medium =fifa.loc[(fifa.Weight >= 150) & (fifa.Weight < 175 )  ].count()[0]\n",
    "mediumHeavy =fifa.loc[(fifa.Weight >= 175) & (fifa.Weight < 200 )  ].count()[0]\n",
    "heavy =fifa.loc[(fifa.Weight > 200)  ].count()[0]\n",
    "# heavy\n",
    "\n",
    "weights = [light,lightMedium,medium,mediumHeavy,heavy]\n",
    "labels = ['under 125','under 150','under 175' , 'under 200', 'above 200']\n",
    "explode = (.4,.1,.1,.1,.4)\n",
    "plt.style.use('ggplot')\n",
    "plt.pie(weights,labels=labels,autopct='%.3f',pctdistance=0.8,explode=explode)\n",
    "# fifa.Weight"
   ]
  },
  {
   "cell_type": "code",
   "execution_count": null,
   "metadata": {},
   "outputs": [],
   "source": [
    "fifa"
   ]
  },
  {
   "cell_type": "code",
   "execution_count": null,
   "metadata": {},
   "outputs": [],
   "source": [
    "baka = fifa.loc[fifa.Club =='FC Barcelona']['Overall']\n",
    "madrid = fifa.loc[fifa.Club =='Real Madrid']['Overall']\n",
    "plt.boxplot([baka,madrid])"
   ]
  }
 ],
 "metadata": {
  "interpreter": {
   "hash": "4d0310b91336df3db36e190317e40238e7fecc2883b8d315e1dda669cc35f8c7"
  },
  "kernelspec": {
   "display_name": "Python 3.10.0 64-bit",
   "language": "python",
   "name": "python3"
  },
  "language_info": {
   "codemirror_mode": {
    "name": "ipython",
    "version": 3
   },
   "file_extension": ".py",
   "mimetype": "text/x-python",
   "name": "python",
   "nbconvert_exporter": "python",
   "pygments_lexer": "ipython3",
   "version": "3.10.0"
  },
  "orig_nbformat": 4
 },
 "nbformat": 4,
 "nbformat_minor": 2
}
