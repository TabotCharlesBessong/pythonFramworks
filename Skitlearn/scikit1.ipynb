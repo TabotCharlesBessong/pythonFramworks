{
 "cells": [
  {
   "cell_type": "code",
   "execution_count": 32,
   "metadata": {},
   "outputs": [],
   "source": [
    "import pandas as pd\n",
    "import numpy as np \n",
    "import matplotlib.pyplot as plt \n",
    "from sklearn import datasets\n",
    "from sklearn.model_selection import train_test_split\n",
    "from sklearn import neighbors , metrics\n",
    "from sklearn.preprocessing import LabelEncoder\n",
    "\n"
   ]
  },
  {
   "cell_type": "code",
   "execution_count": null,
   "metadata": {},
   "outputs": [],
   "source": [
    "iris = datasets.load_iris()\n",
    "\n",
    "x = iris.data \n",
    "y = iris.target \n",
    "print(x.shape)"
   ]
  },
  {
   "cell_type": "code",
   "execution_count": null,
   "metadata": {},
   "outputs": [],
   "source": [
    "print(y.shape)"
   ]
  },
  {
   "cell_type": "markdown",
   "metadata": {},
   "source": [
    "MODEL TRAINING AND TESTING "
   ]
  },
  {
   "cell_type": "code",
   "execution_count": null,
   "metadata": {},
   "outputs": [],
   "source": [
    "x_train , x_test,y_train, y_test = train_test_split(x,y,test_size=0.2,train_size=0.8)\n",
    "\n",
    "print(x_train.shape)\n",
    "print(x_test.shape)\n",
    "print(y_train.shape)\n",
    "print(y_test.shape)"
   ]
  },
  {
   "cell_type": "markdown",
   "metadata": {},
   "source": [
    "K NEAREST NEIGHBOUR  OF  CLASSIFICATION"
   ]
  },
  {
   "cell_type": "code",
   "execution_count": null,
   "metadata": {},
   "outputs": [],
   "source": [
    "data = pd.read_csv('./datas/car.data')\n",
    "data.head()"
   ]
  },
  {
   "cell_type": "code",
   "execution_count": null,
   "metadata": {},
   "outputs": [],
   "source": [
    "X = data[['buying','maint','safety']].values\n",
    "Y = data[['class']]\n",
    "\n",
    "print(X,Y)"
   ]
  },
  {
   "cell_type": "code",
   "execution_count": null,
   "metadata": {},
   "outputs": [],
   "source": [
    "# converting string data to num \n",
    "Le = LabelEncoder()\n",
    "\n",
    "for i in range(len(X[0])):\n",
    "  X[:,i] = Le.fit_transform(X[:,i])\n",
    "print(X)"
   ]
  },
  {
   "cell_type": "code",
   "execution_count": null,
   "metadata": {},
   "outputs": [],
   "source": [
    "# converting Y values\n",
    "labelMapping = {\n",
    "  'unacc':0,\n",
    "  'acc':1,\n",
    "  'good':2,\n",
    "  'vgood':3\n",
    "}\n",
    "\n",
    "Y['class'] = Y['class'].map(labelMapping)\n",
    "Y = np.array(Y)\n",
    "Y"
   ]
  },
  {
   "cell_type": "code",
   "execution_count": null,
   "metadata": {},
   "outputs": [],
   "source": [
    "#  LETS CREATE OUR MODEL \n",
    "\n",
    "knn = neighbors.KNeighborsClassifier(n_neighbors=25,weights='uniform')\n",
    "\n",
    "# knn.fit()\n",
    "X_train , X_test , Y_train , Y_test = train_test_split(X,Y,test_size=0.2,train_size=0.8)\n",
    "\n",
    "knn.fit(X_train,Y_train)\n",
    "\n",
    "predictions = knn.predict(X_test)\n",
    "\n",
    "accuracy = metrics.accuracy_score(Y_test,predictions)\n",
    "print(predictions, ' Predictions')\n",
    "print(accuracy, ' accuracy')\n"
   ]
  }
 ],
 "metadata": {
  "interpreter": {
   "hash": "8c55cf30ac2e488415c751cb851c13fc54b927cdd5eda1552f625099936ed422"
  },
  "kernelspec": {
   "display_name": "Python 3.10.0 64-bit",
   "language": "python",
   "name": "python3"
  },
  "language_info": {
   "codemirror_mode": {
    "name": "ipython",
    "version": 3
   },
   "file_extension": ".py",
   "mimetype": "text/x-python",
   "name": "python",
   "nbconvert_exporter": "python",
   "pygments_lexer": "ipython3",
   "version": "3.10.0"
  },
  "orig_nbformat": 4
 },
 "nbformat": 4,
 "nbformat_minor": 2
}
